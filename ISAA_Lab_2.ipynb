{
  "cells": [
    {
      "cell_type": "markdown",
      "metadata": {
        "id": "view-in-github",
        "colab_type": "text"
      },
      "source": [
        "<a href=\"https://colab.research.google.com/github/SammriddhGupta/ISAA/blob/main/ISAA_Lab_2.ipynb\" target=\"_parent\"><img src=\"https://colab.research.google.com/assets/colab-badge.svg\" alt=\"Open In Colab\"/></a>"
      ]
    },
    {
      "cell_type": "markdown",
      "source": [
        "#Topic: Machine Learning based Malware Analysis "
      ],
      "metadata": {
        "id": "GaMnLuKcdC_l"
      }
    },
    {
      "cell_type": "markdown",
      "source": [
        "## Performance Metrics for Classification to Look out for :\n",
        "1. Accuracy\n",
        "\n",
        "2. Precision \n",
        "\n",
        "3. Recall \n",
        "\n",
        "4. F1 score \n",
        "\n",
        "5. ROC \n",
        "\n",
        "6. AUC \n",
        "\n",
        "7. Discounted Cumulative Gain "
      ],
      "metadata": {
        "id": "azsFhJs6dLoG"
      }
    },
    {
      "cell_type": "markdown",
      "source": [
        "## Introduction to Logistic Regression"
      ],
      "metadata": {
        "id": "m-Vg_w5LdjxF"
      }
    },
    {
      "cell_type": "markdown",
      "source": [
        "### Importing the libraries"
      ],
      "metadata": {
        "id": "I-25Gwk8dqFl"
      }
    },
    {
      "cell_type": "code",
      "execution_count": 26,
      "metadata": {
        "id": "dpzNuWpyWSRI"
      },
      "outputs": [],
      "source": [
        "import numpy as np\n",
        "import matplotlib.pyplot as plt\n",
        "import pandas as pd\n",
        "import sklearn\n",
        "import datetime\n",
        "import pytz"
      ]
    },
    {
      "cell_type": "markdown",
      "source": [
        "### Printing the current date and time"
      ],
      "metadata": {
        "id": "OzAHvF0LeFCr"
      }
    },
    {
      "cell_type": "code",
      "source": [
        "current_time = datetime.datetime.now(pytz.timezone('Asia/Kolkata'))\n",
        "\n",
        "# printing current time in india\n",
        "print(\"The current time in india is :\", current_time)"
      ],
      "metadata": {
        "colab": {
          "base_uri": "https://localhost:8080/"
        },
        "id": "DAkzVFsSd_hO",
        "outputId": "4a356fb2-90e4-4498-d7e9-b75b9d0e58f3"
      },
      "execution_count": 27,
      "outputs": [
        {
          "output_type": "stream",
          "name": "stdout",
          "text": [
            "The current time in india is : 2022-08-14 00:13:26.232289+05:30\n"
          ]
        }
      ]
    },
    {
      "cell_type": "markdown",
      "source": [
        "### Importing the dataset"
      ],
      "metadata": {
        "id": "JkG96BJVeS0o"
      }
    },
    {
      "cell_type": "code",
      "execution_count": 28,
      "metadata": {
        "id": "IQwMRkh-WSRM"
      },
      "outputs": [],
      "source": [
        "dataset = pd.read_csv(\"/content/Malware_dataset.csv\")"
      ]
    },
    {
      "cell_type": "code",
      "execution_count": 29,
      "metadata": {
        "id": "24aq4ZFGWSRN",
        "colab": {
          "base_uri": "https://localhost:8080/"
        },
        "outputId": "70fcf2b0-28fa-47de-a6fb-484715fdbb6b"
      },
      "outputs": [
        {
          "output_type": "stream",
          "name": "stdout",
          "text": [
            "The current time in india is : 2022-08-14 00:13:26.232289+05:30\n"
          ]
        }
      ],
      "source": [
        "dataset2 = dataset.copy()\n",
        "print(\"The current time in india is :\", current_time)"
      ]
    },
    {
      "cell_type": "code",
      "execution_count": 30,
      "metadata": {
        "colab": {
          "base_uri": "https://localhost:8080/",
          "height": 299
        },
        "id": "yabGRr5LWSRP",
        "outputId": "0a5a0365-6845-46db-b486-91a4ecb9118f"
      },
      "outputs": [
        {
          "output_type": "execute_result",
          "data": {
            "text/plain": [
              "                                                hash  millisecond  \\\n",
              "0  42fb5e2ec009a05ff5143227297074f1e9c6c3ebb9c914...            0   \n",
              "1  42fb5e2ec009a05ff5143227297074f1e9c6c3ebb9c914...            1   \n",
              "2  42fb5e2ec009a05ff5143227297074f1e9c6c3ebb9c914...            2   \n",
              "3  42fb5e2ec009a05ff5143227297074f1e9c6c3ebb9c914...            3   \n",
              "4  42fb5e2ec009a05ff5143227297074f1e9c6c3ebb9c914...            4   \n",
              "\n",
              "  classification  state  usage_counter        prio  static_prio  normal_prio  \\\n",
              "0        malware      0              0  3069378560        14274            0   \n",
              "1        malware      0              0  3069378560        14274            0   \n",
              "2        malware      0              0  3069378560        14274            0   \n",
              "3        malware      0              0  3069378560        14274            0   \n",
              "4        malware      0              0  3069378560        14274            0   \n",
              "\n",
              "   policy  vm_pgoff  ...  nivcsw  min_flt  maj_flt  fs_excl_counter  \\\n",
              "0       0         0  ...       0        0      120                0   \n",
              "1       0         0  ...       0        0      120                0   \n",
              "2       0         0  ...       0        0      120                0   \n",
              "3       0         0  ...       0        0      120                0   \n",
              "4       0         0  ...       0        0      120                0   \n",
              "\n",
              "         lock   utime  stime  gtime  cgtime  signal_nvcsw  \n",
              "0  3204448256  380690      4      0       0             0  \n",
              "1  3204448256  380690      4      0       0             0  \n",
              "2  3204448256  380690      4      0       0             0  \n",
              "3  3204448256  380690      4      0       0             0  \n",
              "4  3204448256  380690      4      0       0             0  \n",
              "\n",
              "[5 rows x 35 columns]"
            ],
            "text/html": [
              "\n",
              "  <div id=\"df-c59366c6-6d8d-4e2d-8bfb-744ce02444ce\">\n",
              "    <div class=\"colab-df-container\">\n",
              "      <div>\n",
              "<style scoped>\n",
              "    .dataframe tbody tr th:only-of-type {\n",
              "        vertical-align: middle;\n",
              "    }\n",
              "\n",
              "    .dataframe tbody tr th {\n",
              "        vertical-align: top;\n",
              "    }\n",
              "\n",
              "    .dataframe thead th {\n",
              "        text-align: right;\n",
              "    }\n",
              "</style>\n",
              "<table border=\"1\" class=\"dataframe\">\n",
              "  <thead>\n",
              "    <tr style=\"text-align: right;\">\n",
              "      <th></th>\n",
              "      <th>hash</th>\n",
              "      <th>millisecond</th>\n",
              "      <th>classification</th>\n",
              "      <th>state</th>\n",
              "      <th>usage_counter</th>\n",
              "      <th>prio</th>\n",
              "      <th>static_prio</th>\n",
              "      <th>normal_prio</th>\n",
              "      <th>policy</th>\n",
              "      <th>vm_pgoff</th>\n",
              "      <th>...</th>\n",
              "      <th>nivcsw</th>\n",
              "      <th>min_flt</th>\n",
              "      <th>maj_flt</th>\n",
              "      <th>fs_excl_counter</th>\n",
              "      <th>lock</th>\n",
              "      <th>utime</th>\n",
              "      <th>stime</th>\n",
              "      <th>gtime</th>\n",
              "      <th>cgtime</th>\n",
              "      <th>signal_nvcsw</th>\n",
              "    </tr>\n",
              "  </thead>\n",
              "  <tbody>\n",
              "    <tr>\n",
              "      <th>0</th>\n",
              "      <td>42fb5e2ec009a05ff5143227297074f1e9c6c3ebb9c914...</td>\n",
              "      <td>0</td>\n",
              "      <td>malware</td>\n",
              "      <td>0</td>\n",
              "      <td>0</td>\n",
              "      <td>3069378560</td>\n",
              "      <td>14274</td>\n",
              "      <td>0</td>\n",
              "      <td>0</td>\n",
              "      <td>0</td>\n",
              "      <td>...</td>\n",
              "      <td>0</td>\n",
              "      <td>0</td>\n",
              "      <td>120</td>\n",
              "      <td>0</td>\n",
              "      <td>3204448256</td>\n",
              "      <td>380690</td>\n",
              "      <td>4</td>\n",
              "      <td>0</td>\n",
              "      <td>0</td>\n",
              "      <td>0</td>\n",
              "    </tr>\n",
              "    <tr>\n",
              "      <th>1</th>\n",
              "      <td>42fb5e2ec009a05ff5143227297074f1e9c6c3ebb9c914...</td>\n",
              "      <td>1</td>\n",
              "      <td>malware</td>\n",
              "      <td>0</td>\n",
              "      <td>0</td>\n",
              "      <td>3069378560</td>\n",
              "      <td>14274</td>\n",
              "      <td>0</td>\n",
              "      <td>0</td>\n",
              "      <td>0</td>\n",
              "      <td>...</td>\n",
              "      <td>0</td>\n",
              "      <td>0</td>\n",
              "      <td>120</td>\n",
              "      <td>0</td>\n",
              "      <td>3204448256</td>\n",
              "      <td>380690</td>\n",
              "      <td>4</td>\n",
              "      <td>0</td>\n",
              "      <td>0</td>\n",
              "      <td>0</td>\n",
              "    </tr>\n",
              "    <tr>\n",
              "      <th>2</th>\n",
              "      <td>42fb5e2ec009a05ff5143227297074f1e9c6c3ebb9c914...</td>\n",
              "      <td>2</td>\n",
              "      <td>malware</td>\n",
              "      <td>0</td>\n",
              "      <td>0</td>\n",
              "      <td>3069378560</td>\n",
              "      <td>14274</td>\n",
              "      <td>0</td>\n",
              "      <td>0</td>\n",
              "      <td>0</td>\n",
              "      <td>...</td>\n",
              "      <td>0</td>\n",
              "      <td>0</td>\n",
              "      <td>120</td>\n",
              "      <td>0</td>\n",
              "      <td>3204448256</td>\n",
              "      <td>380690</td>\n",
              "      <td>4</td>\n",
              "      <td>0</td>\n",
              "      <td>0</td>\n",
              "      <td>0</td>\n",
              "    </tr>\n",
              "    <tr>\n",
              "      <th>3</th>\n",
              "      <td>42fb5e2ec009a05ff5143227297074f1e9c6c3ebb9c914...</td>\n",
              "      <td>3</td>\n",
              "      <td>malware</td>\n",
              "      <td>0</td>\n",
              "      <td>0</td>\n",
              "      <td>3069378560</td>\n",
              "      <td>14274</td>\n",
              "      <td>0</td>\n",
              "      <td>0</td>\n",
              "      <td>0</td>\n",
              "      <td>...</td>\n",
              "      <td>0</td>\n",
              "      <td>0</td>\n",
              "      <td>120</td>\n",
              "      <td>0</td>\n",
              "      <td>3204448256</td>\n",
              "      <td>380690</td>\n",
              "      <td>4</td>\n",
              "      <td>0</td>\n",
              "      <td>0</td>\n",
              "      <td>0</td>\n",
              "    </tr>\n",
              "    <tr>\n",
              "      <th>4</th>\n",
              "      <td>42fb5e2ec009a05ff5143227297074f1e9c6c3ebb9c914...</td>\n",
              "      <td>4</td>\n",
              "      <td>malware</td>\n",
              "      <td>0</td>\n",
              "      <td>0</td>\n",
              "      <td>3069378560</td>\n",
              "      <td>14274</td>\n",
              "      <td>0</td>\n",
              "      <td>0</td>\n",
              "      <td>0</td>\n",
              "      <td>...</td>\n",
              "      <td>0</td>\n",
              "      <td>0</td>\n",
              "      <td>120</td>\n",
              "      <td>0</td>\n",
              "      <td>3204448256</td>\n",
              "      <td>380690</td>\n",
              "      <td>4</td>\n",
              "      <td>0</td>\n",
              "      <td>0</td>\n",
              "      <td>0</td>\n",
              "    </tr>\n",
              "  </tbody>\n",
              "</table>\n",
              "<p>5 rows × 35 columns</p>\n",
              "</div>\n",
              "      <button class=\"colab-df-convert\" onclick=\"convertToInteractive('df-c59366c6-6d8d-4e2d-8bfb-744ce02444ce')\"\n",
              "              title=\"Convert this dataframe to an interactive table.\"\n",
              "              style=\"display:none;\">\n",
              "        \n",
              "  <svg xmlns=\"http://www.w3.org/2000/svg\" height=\"24px\"viewBox=\"0 0 24 24\"\n",
              "       width=\"24px\">\n",
              "    <path d=\"M0 0h24v24H0V0z\" fill=\"none\"/>\n",
              "    <path d=\"M18.56 5.44l.94 2.06.94-2.06 2.06-.94-2.06-.94-.94-2.06-.94 2.06-2.06.94zm-11 1L8.5 8.5l.94-2.06 2.06-.94-2.06-.94L8.5 2.5l-.94 2.06-2.06.94zm10 10l.94 2.06.94-2.06 2.06-.94-2.06-.94-.94-2.06-.94 2.06-2.06.94z\"/><path d=\"M17.41 7.96l-1.37-1.37c-.4-.4-.92-.59-1.43-.59-.52 0-1.04.2-1.43.59L10.3 9.45l-7.72 7.72c-.78.78-.78 2.05 0 2.83L4 21.41c.39.39.9.59 1.41.59.51 0 1.02-.2 1.41-.59l7.78-7.78 2.81-2.81c.8-.78.8-2.07 0-2.86zM5.41 20L4 18.59l7.72-7.72 1.47 1.35L5.41 20z\"/>\n",
              "  </svg>\n",
              "      </button>\n",
              "      \n",
              "  <style>\n",
              "    .colab-df-container {\n",
              "      display:flex;\n",
              "      flex-wrap:wrap;\n",
              "      gap: 12px;\n",
              "    }\n",
              "\n",
              "    .colab-df-convert {\n",
              "      background-color: #E8F0FE;\n",
              "      border: none;\n",
              "      border-radius: 50%;\n",
              "      cursor: pointer;\n",
              "      display: none;\n",
              "      fill: #1967D2;\n",
              "      height: 32px;\n",
              "      padding: 0 0 0 0;\n",
              "      width: 32px;\n",
              "    }\n",
              "\n",
              "    .colab-df-convert:hover {\n",
              "      background-color: #E2EBFA;\n",
              "      box-shadow: 0px 1px 2px rgba(60, 64, 67, 0.3), 0px 1px 3px 1px rgba(60, 64, 67, 0.15);\n",
              "      fill: #174EA6;\n",
              "    }\n",
              "\n",
              "    [theme=dark] .colab-df-convert {\n",
              "      background-color: #3B4455;\n",
              "      fill: #D2E3FC;\n",
              "    }\n",
              "\n",
              "    [theme=dark] .colab-df-convert:hover {\n",
              "      background-color: #434B5C;\n",
              "      box-shadow: 0px 1px 3px 1px rgba(0, 0, 0, 0.15);\n",
              "      filter: drop-shadow(0px 1px 2px rgba(0, 0, 0, 0.3));\n",
              "      fill: #FFFFFF;\n",
              "    }\n",
              "  </style>\n",
              "\n",
              "      <script>\n",
              "        const buttonEl =\n",
              "          document.querySelector('#df-c59366c6-6d8d-4e2d-8bfb-744ce02444ce button.colab-df-convert');\n",
              "        buttonEl.style.display =\n",
              "          google.colab.kernel.accessAllowed ? 'block' : 'none';\n",
              "\n",
              "        async function convertToInteractive(key) {\n",
              "          const element = document.querySelector('#df-c59366c6-6d8d-4e2d-8bfb-744ce02444ce');\n",
              "          const dataTable =\n",
              "            await google.colab.kernel.invokeFunction('convertToInteractive',\n",
              "                                                     [key], {});\n",
              "          if (!dataTable) return;\n",
              "\n",
              "          const docLinkHtml = 'Like what you see? Visit the ' +\n",
              "            '<a target=\"_blank\" href=https://colab.research.google.com/notebooks/data_table.ipynb>data table notebook</a>'\n",
              "            + ' to learn more about interactive tables.';\n",
              "          element.innerHTML = '';\n",
              "          dataTable['output_type'] = 'display_data';\n",
              "          await google.colab.output.renderOutput(dataTable, element);\n",
              "          const docLink = document.createElement('div');\n",
              "          docLink.innerHTML = docLinkHtml;\n",
              "          element.appendChild(docLink);\n",
              "        }\n",
              "      </script>\n",
              "    </div>\n",
              "  </div>\n",
              "  "
            ]
          },
          "metadata": {},
          "execution_count": 30
        }
      ],
      "source": [
        "dataset.head()"
      ]
    },
    {
      "cell_type": "code",
      "source": [
        "print(\"The current time in india is :\", current_time)"
      ],
      "metadata": {
        "id": "0sss5XXnhVqd"
      },
      "execution_count": null,
      "outputs": []
    },
    {
      "cell_type": "code",
      "execution_count": 31,
      "metadata": {
        "id": "ftY_mrGiWSRQ"
      },
      "outputs": [],
      "source": [
        "# we are dropping a column named classification in the copy of the dataset\n",
        "dataset2 = dataset.drop(['classification'], axis=1)"
      ]
    },
    {
      "cell_type": "code",
      "source": [
        "print(\"The current time in india is :\", current_time)"
      ],
      "metadata": {
        "id": "7_5DI6MkhXAJ"
      },
      "execution_count": null,
      "outputs": []
    },
    {
      "cell_type": "code",
      "execution_count": 32,
      "metadata": {
        "id": "XOJm8NYBWSRQ"
      },
      "outputs": [],
      "source": [
        "X = dataset2.iloc[:,1:].values\n",
        "y = dataset.iloc[:, 2].values"
      ]
    },
    {
      "cell_type": "code",
      "source": [
        "print(\"The current time in india is :\", current_time)"
      ],
      "metadata": {
        "colab": {
          "base_uri": "https://localhost:8080/"
        },
        "id": "ppdWFEA_g7t3",
        "outputId": "5c3f5c17-4212-48c5-ec21-eb755ad9655a"
      },
      "execution_count": 33,
      "outputs": [
        {
          "output_type": "stream",
          "name": "stdout",
          "text": [
            "The current time in india is : 2022-08-14 00:13:26.232289+05:30\n"
          ]
        }
      ]
    },
    {
      "cell_type": "code",
      "execution_count": 34,
      "metadata": {
        "colab": {
          "base_uri": "https://localhost:8080/"
        },
        "id": "lFPOf4UUWSRR",
        "outputId": "ef9d0f0e-5f0e-4782-9a1b-e9263b45c81b"
      },
      "outputs": [
        {
          "output_type": "stream",
          "name": "stdout",
          "text": [
            "[[   0    0    0 ...    0    0    0]\n",
            " [   1    0    0 ...    0    0    0]\n",
            " [   2    0    0 ...    0    0    0]\n",
            " ...\n",
            " [ 997 4096    0 ...    0    0    0]\n",
            " [ 998 4096    0 ...    0    0    0]\n",
            " [ 999 4096    0 ...    0    0    0]]\n"
          ]
        }
      ],
      "source": [
        "print(X)"
      ]
    },
    {
      "cell_type": "code",
      "source": [
        "print(\"The current time in india is :\", current_time)"
      ],
      "metadata": {
        "colab": {
          "base_uri": "https://localhost:8080/"
        },
        "id": "PFjcVm7ug9YF",
        "outputId": "a19049cf-1228-4021-ea5e-09fd8a9ef9df"
      },
      "execution_count": 35,
      "outputs": [
        {
          "output_type": "stream",
          "name": "stdout",
          "text": [
            "The current time in india is : 2022-08-14 00:13:26.232289+05:30\n"
          ]
        }
      ]
    },
    {
      "cell_type": "code",
      "execution_count": 36,
      "metadata": {
        "colab": {
          "base_uri": "https://localhost:8080/"
        },
        "id": "OlTZwk5vWSRR",
        "outputId": "912e66d5-6383-451d-a400-fac2e6ed35a2"
      },
      "outputs": [
        {
          "output_type": "stream",
          "name": "stdout",
          "text": [
            "['malware' 'malware' 'malware' ... 'malware' 'malware' 'malware']\n"
          ]
        }
      ],
      "source": [
        "print(y)"
      ]
    },
    {
      "cell_type": "markdown",
      "source": [
        "### Label Encoding"
      ],
      "metadata": {
        "id": "-MEWoVJJf1fU"
      }
    },
    {
      "cell_type": "code",
      "execution_count": 37,
      "metadata": {
        "id": "FnnbHBhbWSRS"
      },
      "outputs": [],
      "source": [
        "from sklearn import preprocessing"
      ]
    },
    {
      "cell_type": "code",
      "source": [
        "print(\"The current time in india is :\", current_time)"
      ],
      "metadata": {
        "colab": {
          "base_uri": "https://localhost:8080/"
        },
        "id": "ZjMtK8Jsg-Rw",
        "outputId": "13110040-d47f-4a71-c056-2aba33ea5acf"
      },
      "execution_count": 38,
      "outputs": [
        {
          "output_type": "stream",
          "name": "stdout",
          "text": [
            "The current time in india is : 2022-08-14 00:13:26.232289+05:30\n"
          ]
        }
      ]
    },
    {
      "cell_type": "code",
      "execution_count": 39,
      "metadata": {
        "id": "ebPvCsboWSRT"
      },
      "outputs": [],
      "source": [
        "le = preprocessing.LabelEncoder()\n",
        "y = le.fit_transform(y)"
      ]
    },
    {
      "cell_type": "code",
      "execution_count": 40,
      "metadata": {
        "colab": {
          "base_uri": "https://localhost:8080/"
        },
        "id": "uDY1goT2WSRT",
        "outputId": "ef38a9d9-c269-4839-ddc5-78b47d7ace18"
      },
      "outputs": [
        {
          "output_type": "stream",
          "name": "stdout",
          "text": [
            "[1 1 1 ... 1 1 1]\n"
          ]
        }
      ],
      "source": [
        "print(y)"
      ]
    },
    {
      "cell_type": "markdown",
      "source": [
        "###Splitting the dataset into the Training set and Test set"
      ],
      "metadata": {
        "id": "xkX69dr-f7NX"
      }
    },
    {
      "cell_type": "code",
      "execution_count": 41,
      "metadata": {
        "id": "MKX9Qw2gWSRU"
      },
      "outputs": [],
      "source": [
        "from sklearn.model_selection import train_test_split\n",
        "\n",
        "X_train, X_test, y_train, y_test = train_test_split(X, y, test_size = 0.25, random_state = 0)"
      ]
    },
    {
      "cell_type": "code",
      "source": [
        "print(\"The current time in india is :\", current_time)"
      ],
      "metadata": {
        "colab": {
          "base_uri": "https://localhost:8080/"
        },
        "id": "8LNkWeDsg_Yj",
        "outputId": "c201867b-738b-4460-f4a0-41b94a457618"
      },
      "execution_count": 42,
      "outputs": [
        {
          "output_type": "stream",
          "name": "stdout",
          "text": [
            "The current time in india is : 2022-08-14 00:13:26.232289+05:30\n"
          ]
        }
      ]
    },
    {
      "cell_type": "code",
      "execution_count": 43,
      "metadata": {
        "colab": {
          "base_uri": "https://localhost:8080/"
        },
        "id": "jRW8C-iMWSRV",
        "outputId": "56b57e17-c8f7-4538-c22d-b6bc7995c31c"
      },
      "outputs": [
        {
          "output_type": "stream",
          "name": "stdout",
          "text": [
            "[[  606 12288     0 ...    10     0     0]\n",
            " [  228 28672     0 ...     0     0     0]\n",
            " [  382  4096     0 ...     1     0     0]\n",
            " ...\n",
            " [  613 12288     0 ...    11     0     0]\n",
            " [  567  4096     0 ...     2     0     0]\n",
            " [  268     0     0 ...     0     0     0]]\n"
          ]
        }
      ],
      "source": [
        "print(X_train)"
      ]
    },
    {
      "cell_type": "code",
      "source": [
        "print(\"The current time in india is :\", current_time)"
      ],
      "metadata": {
        "colab": {
          "base_uri": "https://localhost:8080/"
        },
        "id": "PpK5Baj1hARJ",
        "outputId": "c84526ae-4438-44d7-edbe-695cdd40c3a5"
      },
      "execution_count": 44,
      "outputs": [
        {
          "output_type": "stream",
          "name": "stdout",
          "text": [
            "The current time in india is : 2022-08-14 00:13:26.232289+05:30\n"
          ]
        }
      ]
    },
    {
      "cell_type": "code",
      "execution_count": 45,
      "metadata": {
        "colab": {
          "base_uri": "https://localhost:8080/"
        },
        "id": "vw4ADabHWSRV",
        "outputId": "39bcf264-6c57-4f53-c078-1fd141397e67"
      },
      "outputs": [
        {
          "output_type": "stream",
          "name": "stdout",
          "text": [
            "[0 1 0 ... 0 0 1]\n"
          ]
        }
      ],
      "source": [
        "print(y_train)"
      ]
    },
    {
      "cell_type": "code",
      "execution_count": 46,
      "metadata": {
        "colab": {
          "base_uri": "https://localhost:8080/"
        },
        "id": "uW-PTUzfWSRW",
        "outputId": "7ee7d372-8d6e-4f92-c36b-0c8037a2e04a"
      },
      "outputs": [
        {
          "output_type": "stream",
          "name": "stdout",
          "text": [
            "[[    582       0       0 ...       8       0       0]\n",
            " [    498       0       0 ...       0       0       0]\n",
            " [    227 1028096       0 ...       4       0       0]\n",
            " ...\n",
            " [    585    4096       0 ...       0       0       0]\n",
            " [    519       0       0 ...       7       0       0]\n",
            " [    831       0       0 ...       0       0       0]]\n"
          ]
        }
      ],
      "source": [
        "print(X_test)"
      ]
    },
    {
      "cell_type": "code",
      "source": [
        "print(\"The current time in india is :\", current_time)"
      ],
      "metadata": {
        "colab": {
          "base_uri": "https://localhost:8080/"
        },
        "id": "RahjyjtJhByD",
        "outputId": "83275a76-c080-46a9-888a-f40ad8758ec1"
      },
      "execution_count": 47,
      "outputs": [
        {
          "output_type": "stream",
          "name": "stdout",
          "text": [
            "The current time in india is : 2022-08-14 00:13:26.232289+05:30\n"
          ]
        }
      ]
    },
    {
      "cell_type": "code",
      "execution_count": 48,
      "metadata": {
        "colab": {
          "base_uri": "https://localhost:8080/"
        },
        "id": "G-tmmcuXWSRW",
        "outputId": "4f967717-8b19-4d8d-e256-a7cbdc395def"
      },
      "outputs": [
        {
          "output_type": "stream",
          "name": "stdout",
          "text": [
            "[1 0 0 ... 1 0 0]\n"
          ]
        }
      ],
      "source": [
        "print(y_test)"
      ]
    },
    {
      "cell_type": "markdown",
      "source": [
        "### Feature Scaling"
      ],
      "metadata": {
        "id": "H-HGuGKBgAR7"
      }
    },
    {
      "cell_type": "code",
      "execution_count": 49,
      "metadata": {
        "id": "DD8Se1OlWSRX"
      },
      "outputs": [],
      "source": [
        "from sklearn.preprocessing import StandardScaler\n",
        "sc = StandardScaler()\n",
        "X_train = sc.fit_transform(X_train)\n",
        "X_test = sc.transform(X_test)"
      ]
    },
    {
      "cell_type": "code",
      "source": [
        "print(\"The current time in india is :\", current_time)"
      ],
      "metadata": {
        "colab": {
          "base_uri": "https://localhost:8080/"
        },
        "id": "gmJobc2EhC8e",
        "outputId": "8cc5bd73-fb65-4ef8-c0d8-34a6c6a29556"
      },
      "execution_count": 50,
      "outputs": [
        {
          "output_type": "stream",
          "name": "stdout",
          "text": [
            "The current time in india is : 2022-08-14 00:13:26.232289+05:30\n"
          ]
        }
      ]
    },
    {
      "cell_type": "code",
      "execution_count": 51,
      "metadata": {
        "colab": {
          "base_uri": "https://localhost:8080/"
        },
        "id": "nBGfsN-NWSRX",
        "outputId": "4b678edb-f9ea-4a4a-d4ba-fd00a502c3f8"
      },
      "outputs": [
        {
          "output_type": "stream",
          "name": "stdout",
          "text": [
            "[[ 0.36731703 -0.15969785  0.         ...  2.5559669   0.\n",
            "   0.        ]\n",
            " [-0.941068   -0.14179605  0.         ... -0.50896701  0.\n",
            "   0.        ]\n",
            " [-0.40802225 -0.16864875  0.         ... -0.20247362  0.\n",
            "   0.        ]\n",
            " ...\n",
            " [ 0.39154638 -0.15969785  0.         ...  2.8624603   0.\n",
            "   0.        ]\n",
            " [ 0.23232492 -0.16864875  0.         ...  0.10401977  0.\n",
            "   0.        ]\n",
            " [-0.80261455 -0.1731242   0.         ... -0.50896701  0.\n",
            "   0.        ]]\n"
          ]
        }
      ],
      "source": [
        "print(X_train)"
      ]
    },
    {
      "cell_type": "code",
      "source": [
        "print(\"The current time in india is :\", current_time)"
      ],
      "metadata": {
        "colab": {
          "base_uri": "https://localhost:8080/"
        },
        "id": "0OHyCX4YhEEA",
        "outputId": "5ad889ba-10fd-4735-9754-1dd74ad29037"
      },
      "execution_count": 52,
      "outputs": [
        {
          "output_type": "stream",
          "name": "stdout",
          "text": [
            "The current time in india is : 2022-08-14 00:13:26.232289+05:30\n"
          ]
        }
      ]
    },
    {
      "cell_type": "code",
      "execution_count": 53,
      "metadata": {
        "colab": {
          "base_uri": "https://localhost:8080/"
        },
        "id": "CqXw-yuzWSRX",
        "outputId": "cd75a89a-bd82-4959-d811-cdb1192692a3"
      },
      "outputs": [
        {
          "output_type": "stream",
          "name": "stdout",
          "text": [
            "[[ 0.28424496 -0.1731242   0.         ...  1.94298012  0.\n",
            "   0.        ]\n",
            " [-0.00650727 -0.1731242   0.         ... -0.50896701  0.\n",
            "   0.        ]\n",
            " [-0.94452933  0.95021383  0.         ...  0.71700655  0.\n",
            "   0.        ]\n",
            " ...\n",
            " [ 0.29462897 -0.16864875  0.         ... -0.50896701  0.\n",
            "   0.        ]\n",
            " [ 0.06618079 -0.1731242   0.         ...  1.63648673  0.\n",
            "   0.        ]\n",
            " [ 1.14611763 -0.1731242   0.         ... -0.50896701  0.\n",
            "   0.        ]]\n"
          ]
        }
      ],
      "source": [
        "print(X_test)"
      ]
    },
    {
      "cell_type": "markdown",
      "source": [
        "### Training Model on the Training set"
      ],
      "metadata": {
        "id": "wA4R7BOcgJPx"
      }
    },
    {
      "cell_type": "code",
      "execution_count": 54,
      "metadata": {
        "colab": {
          "base_uri": "https://localhost:8080/"
        },
        "id": "ON5YNGX0WSRY",
        "outputId": "34289f0e-b877-4697-e6dd-078653bb23f5"
      },
      "outputs": [
        {
          "output_type": "execute_result",
          "data": {
            "text/plain": [
              "LogisticRegression(random_state=0)"
            ]
          },
          "metadata": {},
          "execution_count": 54
        }
      ],
      "source": [
        "from sklearn.linear_model import LogisticRegression\n",
        "classifier = LogisticRegression(random_state = 0)\n",
        "classifier.fit(X_train, y_train)"
      ]
    },
    {
      "cell_type": "code",
      "source": [
        "print(\"The current time in india is :\", current_time)"
      ],
      "metadata": {
        "colab": {
          "base_uri": "https://localhost:8080/"
        },
        "id": "vj6M8S7uhGA0",
        "outputId": "c06a65be-e3e0-4990-8b5e-147d1e61de03"
      },
      "execution_count": 55,
      "outputs": [
        {
          "output_type": "stream",
          "name": "stdout",
          "text": [
            "The current time in india is : 2022-08-14 00:13:26.232289+05:30\n"
          ]
        }
      ]
    },
    {
      "cell_type": "code",
      "execution_count": 56,
      "metadata": {
        "colab": {
          "base_uri": "https://localhost:8080/"
        },
        "id": "afaZ8B3VWSRY",
        "outputId": "f7eb2504-1e93-4ea0-c11f-8e59b83dae70"
      },
      "outputs": [
        {
          "output_type": "execute_result",
          "data": {
            "text/plain": [
              "LogisticRegression(random_state=0)"
            ]
          },
          "metadata": {},
          "execution_count": 56
        }
      ],
      "source": [
        "LogisticRegression(C=1.0, class_weight=None, dual=False, fit_intercept=True,\n",
        " intercept_scaling=1, l1_ratio=None, max_iter=100,\n",
        " multi_class='auto', n_jobs=None, penalty='l2',\n",
        " random_state=0, solver='lbfgs', tol=0.0001, verbose=0,\n",
        " warm_start=False)"
      ]
    },
    {
      "cell_type": "markdown",
      "source": [
        "### Predicting the Test set results"
      ],
      "metadata": {
        "id": "_P1YOIAugQOG"
      }
    },
    {
      "cell_type": "code",
      "execution_count": 57,
      "metadata": {
        "colab": {
          "base_uri": "https://localhost:8080/"
        },
        "id": "5bghRLXJWSRY",
        "outputId": "48e1b4b7-391a-41ef-bb81-aac62db7c2e6"
      },
      "outputs": [
        {
          "output_type": "stream",
          "name": "stdout",
          "text": [
            "[[1 1]\n",
            " [0 0]\n",
            " [0 0]\n",
            " ...\n",
            " [1 1]\n",
            " [0 0]\n",
            " [0 0]]\n"
          ]
        }
      ],
      "source": [
        "y_pred = classifier.predict(X_test)\n",
        "print(np.concatenate((y_pred.reshape(len(y_pred),1), y_test.reshape(len(y_test),1)),1))"
      ]
    },
    {
      "cell_type": "code",
      "source": [
        "print(\"The current time in india is :\", current_time)"
      ],
      "metadata": {
        "colab": {
          "base_uri": "https://localhost:8080/"
        },
        "id": "TMZ4XUnuhHVA",
        "outputId": "92a6ad5f-41db-432a-8d08-847e9295216b"
      },
      "execution_count": 58,
      "outputs": [
        {
          "output_type": "stream",
          "name": "stdout",
          "text": [
            "The current time in india is : 2022-08-14 00:13:26.232289+05:30\n"
          ]
        }
      ]
    },
    {
      "cell_type": "markdown",
      "source": [
        "### Confusion Matrix and Accuracy"
      ],
      "metadata": {
        "id": "YmOXmlOugT2n"
      }
    },
    {
      "cell_type": "code",
      "execution_count": 59,
      "metadata": {
        "colab": {
          "base_uri": "https://localhost:8080/"
        },
        "id": "-eBJQgUIWSRY",
        "outputId": "c54a221d-2979-4365-9dcd-5e5c470d6072"
      },
      "outputs": [
        {
          "output_type": "stream",
          "name": "stdout",
          "text": [
            "[[11590   938]\n",
            " [  560 11912]]\n"
          ]
        },
        {
          "output_type": "execute_result",
          "data": {
            "text/plain": [
              "0.94008"
            ]
          },
          "metadata": {},
          "execution_count": 59
        }
      ],
      "source": [
        "from sklearn.metrics import confusion_matrix, accuracy_score\n",
        "cm = confusion_matrix(y_test, y_pred)\n",
        "print(cm)\n",
        "accuracy_score(y_test, y_pred)"
      ]
    },
    {
      "cell_type": "code",
      "source": [
        "print(\"The current time in india is :\", current_time)"
      ],
      "metadata": {
        "colab": {
          "base_uri": "https://localhost:8080/"
        },
        "id": "jsih5IYihIsz",
        "outputId": "f58e453a-abb9-4b48-aa4d-456cf82e9332"
      },
      "execution_count": 60,
      "outputs": [
        {
          "output_type": "stream",
          "name": "stdout",
          "text": [
            "The current time in india is : 2022-08-14 00:13:26.232289+05:30\n"
          ]
        }
      ]
    },
    {
      "cell_type": "code",
      "source": [
        ""
      ],
      "metadata": {
        "id": "adA5CYrqhdLy"
      },
      "execution_count": null,
      "outputs": []
    },
    {
      "cell_type": "code",
      "source": [
        ""
      ],
      "metadata": {
        "id": "bJw2nQA7hdYk"
      },
      "execution_count": null,
      "outputs": []
    },
    {
      "cell_type": "markdown",
      "source": [
        "## Introduction to Naive Bayes"
      ],
      "metadata": {
        "id": "TYx_vo5BhfP1"
      }
    },
    {
      "cell_type": "code",
      "source": [
        ""
      ],
      "metadata": {
        "id": "kYK0tkLkhdbp"
      },
      "execution_count": null,
      "outputs": []
    },
    {
      "cell_type": "code",
      "source": [
        ""
      ],
      "metadata": {
        "id": "08fAMiY4hdeh"
      },
      "execution_count": null,
      "outputs": []
    },
    {
      "cell_type": "code",
      "source": [
        ""
      ],
      "metadata": {
        "id": "TQXU1kHZhdhJ"
      },
      "execution_count": null,
      "outputs": []
    },
    {
      "cell_type": "code",
      "source": [
        ""
      ],
      "metadata": {
        "id": "fGjQJOfbhdkh"
      },
      "execution_count": null,
      "outputs": []
    }
  ],
  "metadata": {
    "kernelspec": {
      "display_name": "Python 3",
      "language": "python",
      "name": "python3"
    },
    "language_info": {
      "codemirror_mode": {
        "name": "ipython",
        "version": 3
      },
      "file_extension": ".py",
      "mimetype": "text/x-python",
      "name": "python",
      "nbconvert_exporter": "python",
      "pygments_lexer": "ipython3",
      "version": "3.8.5"
    },
    "colab": {
      "name": "ISAA_Lab_2.ipynb",
      "provenance": [],
      "collapsed_sections": [],
      "include_colab_link": true
    }
  },
  "nbformat": 4,
  "nbformat_minor": 0
}