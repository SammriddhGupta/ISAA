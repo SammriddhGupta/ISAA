{
  "cells": [
    {
      "cell_type": "markdown",
      "metadata": {
        "id": "view-in-github",
        "colab_type": "text"
      },
      "source": [
        "<a href=\"https://colab.research.google.com/github/SammriddhGupta/ISAA/blob/main/Final_ISAA_Lab_2.ipynb\" target=\"_parent\"><img src=\"https://colab.research.google.com/assets/colab-badge.svg\" alt=\"Open In Colab\"/></a>"
      ]
    },
    {
      "cell_type": "markdown",
      "metadata": {
        "id": "GaMnLuKcdC_l"
      },
      "source": [
        "#Topic: Machine Learning based Malware Analysis "
      ]
    },
    {
      "cell_type": "markdown",
      "metadata": {
        "id": "azsFhJs6dLoG"
      },
      "source": [
        "## Performance Metrics for Classification to Look out for :\n",
        "1. Accuracy\n",
        "\n",
        "2. Precision \n",
        "\n",
        "3. Recall \n",
        "\n",
        "4. F1 score \n",
        "\n",
        "5. ROC \n",
        "\n",
        "6. AUC \n",
        "\n",
        "7. Discounted Cumulative Gain "
      ]
    },
    {
      "cell_type": "markdown",
      "metadata": {
        "id": "m-Vg_w5LdjxF"
      },
      "source": [
        "## Introduction to Logistic Regression"
      ]
    },
    {
      "cell_type": "markdown",
      "metadata": {
        "id": "I-25Gwk8dqFl"
      },
      "source": [
        "### Importing the libraries"
      ]
    },
    {
      "cell_type": "code",
      "execution_count": 1,
      "metadata": {
        "colab": {
          "base_uri": "https://localhost:8080/"
        },
        "id": "xDc0JhJGJYck",
        "outputId": "255554ed-eb92-437f-9374-5ced21e6241e"
      },
      "outputs": [
        {
          "output_type": "stream",
          "name": "stdout",
          "text": [
            "Looking in indexes: https://pypi.org/simple, https://us-python.pkg.dev/colab-wheels/public/simple/\n",
            "Collecting scikit-plot\n",
            "  Downloading scikit_plot-0.3.7-py3-none-any.whl (33 kB)\n",
            "Requirement already satisfied: joblib>=0.10 in /usr/local/lib/python3.7/dist-packages (from scikit-plot) (1.1.0)\n",
            "Requirement already satisfied: scipy>=0.9 in /usr/local/lib/python3.7/dist-packages (from scikit-plot) (1.7.3)\n",
            "Requirement already satisfied: scikit-learn>=0.18 in /usr/local/lib/python3.7/dist-packages (from scikit-plot) (1.0.2)\n",
            "Requirement already satisfied: matplotlib>=1.4.0 in /usr/local/lib/python3.7/dist-packages (from scikit-plot) (3.2.2)\n",
            "Requirement already satisfied: cycler>=0.10 in /usr/local/lib/python3.7/dist-packages (from matplotlib>=1.4.0->scikit-plot) (0.11.0)\n",
            "Requirement already satisfied: pyparsing!=2.0.4,!=2.1.2,!=2.1.6,>=2.0.1 in /usr/local/lib/python3.7/dist-packages (from matplotlib>=1.4.0->scikit-plot) (3.0.9)\n",
            "Requirement already satisfied: numpy>=1.11 in /usr/local/lib/python3.7/dist-packages (from matplotlib>=1.4.0->scikit-plot) (1.21.6)\n",
            "Requirement already satisfied: python-dateutil>=2.1 in /usr/local/lib/python3.7/dist-packages (from matplotlib>=1.4.0->scikit-plot) (2.8.2)\n",
            "Requirement already satisfied: kiwisolver>=1.0.1 in /usr/local/lib/python3.7/dist-packages (from matplotlib>=1.4.0->scikit-plot) (1.4.4)\n",
            "Requirement already satisfied: typing-extensions in /usr/local/lib/python3.7/dist-packages (from kiwisolver>=1.0.1->matplotlib>=1.4.0->scikit-plot) (4.1.1)\n",
            "Requirement already satisfied: six>=1.5 in /usr/local/lib/python3.7/dist-packages (from python-dateutil>=2.1->matplotlib>=1.4.0->scikit-plot) (1.15.0)\n",
            "Requirement already satisfied: threadpoolctl>=2.0.0 in /usr/local/lib/python3.7/dist-packages (from scikit-learn>=0.18->scikit-plot) (3.1.0)\n",
            "Installing collected packages: scikit-plot\n",
            "Successfully installed scikit-plot-0.3.7\n",
            "Looking in indexes: https://pypi.org/simple, https://us-python.pkg.dev/colab-wheels/public/simple/\n",
            "Requirement already satisfied: plotnine in /usr/local/lib/python3.7/dist-packages (0.8.0)\n",
            "Requirement already satisfied: scipy>=1.5.0 in /usr/local/lib/python3.7/dist-packages (from plotnine) (1.7.3)\n",
            "Requirement already satisfied: matplotlib>=3.1.1 in /usr/local/lib/python3.7/dist-packages (from plotnine) (3.2.2)\n",
            "Requirement already satisfied: mizani>=0.7.3 in /usr/local/lib/python3.7/dist-packages (from plotnine) (0.7.3)\n",
            "Requirement already satisfied: statsmodels>=0.12.1 in /usr/local/lib/python3.7/dist-packages (from plotnine) (0.12.2)\n",
            "Requirement already satisfied: descartes>=1.1.0 in /usr/local/lib/python3.7/dist-packages (from plotnine) (1.1.0)\n",
            "Requirement already satisfied: patsy>=0.5.1 in /usr/local/lib/python3.7/dist-packages (from plotnine) (0.5.2)\n",
            "Requirement already satisfied: numpy>=1.19.0 in /usr/local/lib/python3.7/dist-packages (from plotnine) (1.21.6)\n",
            "Requirement already satisfied: pandas>=1.1.0 in /usr/local/lib/python3.7/dist-packages (from plotnine) (1.3.5)\n",
            "Requirement already satisfied: cycler>=0.10 in /usr/local/lib/python3.7/dist-packages (from matplotlib>=3.1.1->plotnine) (0.11.0)\n",
            "Requirement already satisfied: kiwisolver>=1.0.1 in /usr/local/lib/python3.7/dist-packages (from matplotlib>=3.1.1->plotnine) (1.4.4)\n",
            "Requirement already satisfied: pyparsing!=2.0.4,!=2.1.2,!=2.1.6,>=2.0.1 in /usr/local/lib/python3.7/dist-packages (from matplotlib>=3.1.1->plotnine) (3.0.9)\n",
            "Requirement already satisfied: python-dateutil>=2.1 in /usr/local/lib/python3.7/dist-packages (from matplotlib>=3.1.1->plotnine) (2.8.2)\n",
            "Requirement already satisfied: typing-extensions in /usr/local/lib/python3.7/dist-packages (from kiwisolver>=1.0.1->matplotlib>=3.1.1->plotnine) (4.1.1)\n",
            "Requirement already satisfied: palettable in /usr/local/lib/python3.7/dist-packages (from mizani>=0.7.3->plotnine) (3.3.0)\n",
            "Requirement already satisfied: pytz>=2017.3 in /usr/local/lib/python3.7/dist-packages (from pandas>=1.1.0->plotnine) (2022.2.1)\n",
            "Requirement already satisfied: six in /usr/local/lib/python3.7/dist-packages (from patsy>=0.5.1->plotnine) (1.15.0)\n"
          ]
        }
      ],
      "source": [
        "!pip install scikit-plot\n",
        "!pip install plotnine"
      ]
    },
    {
      "cell_type": "code",
      "execution_count": 2,
      "metadata": {
        "id": "dpzNuWpyWSRI"
      },
      "outputs": [],
      "source": [
        "import numpy as np\n",
        "import matplotlib.pyplot as plt\n",
        "import pandas as pd\n",
        "import sklearn\n",
        "import datetime\n",
        "import pytz"
      ]
    },
    {
      "cell_type": "markdown",
      "metadata": {
        "id": "OzAHvF0LeFCr"
      },
      "source": [
        "### Printing the current date and time"
      ]
    },
    {
      "cell_type": "code",
      "execution_count": 3,
      "metadata": {
        "colab": {
          "base_uri": "https://localhost:8080/"
        },
        "id": "DAkzVFsSd_hO",
        "outputId": "85cb9260-3fc1-447d-e02c-c4f932318734"
      },
      "outputs": [
        {
          "output_type": "stream",
          "name": "stdout",
          "text": [
            "The current time in india is : 2022-08-25 23:16:54.860890+05:30\n"
          ]
        }
      ],
      "source": [
        "current_time = datetime.datetime.now(pytz.timezone('Asia/Kolkata'))\n",
        "\n",
        "# printing current time in india\n",
        "print(\"The current time in india is :\", current_time)"
      ]
    },
    {
      "cell_type": "markdown",
      "metadata": {
        "id": "JkG96BJVeS0o"
      },
      "source": [
        "### Importing the dataset"
      ]
    },
    {
      "cell_type": "code",
      "execution_count": 4,
      "metadata": {
        "id": "IQwMRkh-WSRM"
      },
      "outputs": [],
      "source": [
        "dataset = pd.read_csv(\"/content/Malware_dataset.csv\")"
      ]
    },
    {
      "cell_type": "code",
      "execution_count": 5,
      "metadata": {
        "colab": {
          "base_uri": "https://localhost:8080/"
        },
        "id": "24aq4ZFGWSRN",
        "outputId": "be4a3ff4-651d-487a-dc66-9cc6a961d550"
      },
      "outputs": [
        {
          "output_type": "stream",
          "name": "stdout",
          "text": [
            "The current time in india is : 2022-08-25 23:16:54.860890+05:30\n"
          ]
        }
      ],
      "source": [
        "dataset2 = dataset.copy()\n",
        "print(\"The current time in india is :\", current_time)"
      ]
    },
    {
      "cell_type": "code",
      "execution_count": 6,
      "metadata": {
        "colab": {
          "base_uri": "https://localhost:8080/",
          "height": 299
        },
        "id": "yabGRr5LWSRP",
        "outputId": "775af046-1679-4abe-ec0c-75377afe4f19"
      },
      "outputs": [
        {
          "output_type": "execute_result",
          "data": {
            "text/plain": [
              "                                                hash  millisecond  \\\n",
              "0  42fb5e2ec009a05ff5143227297074f1e9c6c3ebb9c914...            0   \n",
              "1  42fb5e2ec009a05ff5143227297074f1e9c6c3ebb9c914...            1   \n",
              "2  42fb5e2ec009a05ff5143227297074f1e9c6c3ebb9c914...            2   \n",
              "3  42fb5e2ec009a05ff5143227297074f1e9c6c3ebb9c914...            3   \n",
              "4  42fb5e2ec009a05ff5143227297074f1e9c6c3ebb9c914...            4   \n",
              "\n",
              "  classification  state  usage_counter        prio  static_prio  normal_prio  \\\n",
              "0        malware      0              0  3069378560        14274            0   \n",
              "1        malware      0              0  3069378560        14274            0   \n",
              "2        malware      0              0  3069378560        14274            0   \n",
              "3        malware      0              0  3069378560        14274            0   \n",
              "4        malware      0              0  3069378560        14274            0   \n",
              "\n",
              "   policy  vm_pgoff  ...  nivcsw  min_flt  maj_flt  fs_excl_counter  \\\n",
              "0       0         0  ...       0        0      120                0   \n",
              "1       0         0  ...       0        0      120                0   \n",
              "2       0         0  ...       0        0      120                0   \n",
              "3       0         0  ...       0        0      120                0   \n",
              "4       0         0  ...       0        0      120                0   \n",
              "\n",
              "         lock   utime  stime  gtime  cgtime  signal_nvcsw  \n",
              "0  3204448256  380690      4      0       0             0  \n",
              "1  3204448256  380690      4      0       0             0  \n",
              "2  3204448256  380690      4      0       0             0  \n",
              "3  3204448256  380690      4      0       0             0  \n",
              "4  3204448256  380690      4      0       0             0  \n",
              "\n",
              "[5 rows x 35 columns]"
            ],
            "text/html": [
              "\n",
              "  <div id=\"df-027beeaa-eb1d-450f-9eb0-030b854608eb\">\n",
              "    <div class=\"colab-df-container\">\n",
              "      <div>\n",
              "<style scoped>\n",
              "    .dataframe tbody tr th:only-of-type {\n",
              "        vertical-align: middle;\n",
              "    }\n",
              "\n",
              "    .dataframe tbody tr th {\n",
              "        vertical-align: top;\n",
              "    }\n",
              "\n",
              "    .dataframe thead th {\n",
              "        text-align: right;\n",
              "    }\n",
              "</style>\n",
              "<table border=\"1\" class=\"dataframe\">\n",
              "  <thead>\n",
              "    <tr style=\"text-align: right;\">\n",
              "      <th></th>\n",
              "      <th>hash</th>\n",
              "      <th>millisecond</th>\n",
              "      <th>classification</th>\n",
              "      <th>state</th>\n",
              "      <th>usage_counter</th>\n",
              "      <th>prio</th>\n",
              "      <th>static_prio</th>\n",
              "      <th>normal_prio</th>\n",
              "      <th>policy</th>\n",
              "      <th>vm_pgoff</th>\n",
              "      <th>...</th>\n",
              "      <th>nivcsw</th>\n",
              "      <th>min_flt</th>\n",
              "      <th>maj_flt</th>\n",
              "      <th>fs_excl_counter</th>\n",
              "      <th>lock</th>\n",
              "      <th>utime</th>\n",
              "      <th>stime</th>\n",
              "      <th>gtime</th>\n",
              "      <th>cgtime</th>\n",
              "      <th>signal_nvcsw</th>\n",
              "    </tr>\n",
              "  </thead>\n",
              "  <tbody>\n",
              "    <tr>\n",
              "      <th>0</th>\n",
              "      <td>42fb5e2ec009a05ff5143227297074f1e9c6c3ebb9c914...</td>\n",
              "      <td>0</td>\n",
              "      <td>malware</td>\n",
              "      <td>0</td>\n",
              "      <td>0</td>\n",
              "      <td>3069378560</td>\n",
              "      <td>14274</td>\n",
              "      <td>0</td>\n",
              "      <td>0</td>\n",
              "      <td>0</td>\n",
              "      <td>...</td>\n",
              "      <td>0</td>\n",
              "      <td>0</td>\n",
              "      <td>120</td>\n",
              "      <td>0</td>\n",
              "      <td>3204448256</td>\n",
              "      <td>380690</td>\n",
              "      <td>4</td>\n",
              "      <td>0</td>\n",
              "      <td>0</td>\n",
              "      <td>0</td>\n",
              "    </tr>\n",
              "    <tr>\n",
              "      <th>1</th>\n",
              "      <td>42fb5e2ec009a05ff5143227297074f1e9c6c3ebb9c914...</td>\n",
              "      <td>1</td>\n",
              "      <td>malware</td>\n",
              "      <td>0</td>\n",
              "      <td>0</td>\n",
              "      <td>3069378560</td>\n",
              "      <td>14274</td>\n",
              "      <td>0</td>\n",
              "      <td>0</td>\n",
              "      <td>0</td>\n",
              "      <td>...</td>\n",
              "      <td>0</td>\n",
              "      <td>0</td>\n",
              "      <td>120</td>\n",
              "      <td>0</td>\n",
              "      <td>3204448256</td>\n",
              "      <td>380690</td>\n",
              "      <td>4</td>\n",
              "      <td>0</td>\n",
              "      <td>0</td>\n",
              "      <td>0</td>\n",
              "    </tr>\n",
              "    <tr>\n",
              "      <th>2</th>\n",
              "      <td>42fb5e2ec009a05ff5143227297074f1e9c6c3ebb9c914...</td>\n",
              "      <td>2</td>\n",
              "      <td>malware</td>\n",
              "      <td>0</td>\n",
              "      <td>0</td>\n",
              "      <td>3069378560</td>\n",
              "      <td>14274</td>\n",
              "      <td>0</td>\n",
              "      <td>0</td>\n",
              "      <td>0</td>\n",
              "      <td>...</td>\n",
              "      <td>0</td>\n",
              "      <td>0</td>\n",
              "      <td>120</td>\n",
              "      <td>0</td>\n",
              "      <td>3204448256</td>\n",
              "      <td>380690</td>\n",
              "      <td>4</td>\n",
              "      <td>0</td>\n",
              "      <td>0</td>\n",
              "      <td>0</td>\n",
              "    </tr>\n",
              "    <tr>\n",
              "      <th>3</th>\n",
              "      <td>42fb5e2ec009a05ff5143227297074f1e9c6c3ebb9c914...</td>\n",
              "      <td>3</td>\n",
              "      <td>malware</td>\n",
              "      <td>0</td>\n",
              "      <td>0</td>\n",
              "      <td>3069378560</td>\n",
              "      <td>14274</td>\n",
              "      <td>0</td>\n",
              "      <td>0</td>\n",
              "      <td>0</td>\n",
              "      <td>...</td>\n",
              "      <td>0</td>\n",
              "      <td>0</td>\n",
              "      <td>120</td>\n",
              "      <td>0</td>\n",
              "      <td>3204448256</td>\n",
              "      <td>380690</td>\n",
              "      <td>4</td>\n",
              "      <td>0</td>\n",
              "      <td>0</td>\n",
              "      <td>0</td>\n",
              "    </tr>\n",
              "    <tr>\n",
              "      <th>4</th>\n",
              "      <td>42fb5e2ec009a05ff5143227297074f1e9c6c3ebb9c914...</td>\n",
              "      <td>4</td>\n",
              "      <td>malware</td>\n",
              "      <td>0</td>\n",
              "      <td>0</td>\n",
              "      <td>3069378560</td>\n",
              "      <td>14274</td>\n",
              "      <td>0</td>\n",
              "      <td>0</td>\n",
              "      <td>0</td>\n",
              "      <td>...</td>\n",
              "      <td>0</td>\n",
              "      <td>0</td>\n",
              "      <td>120</td>\n",
              "      <td>0</td>\n",
              "      <td>3204448256</td>\n",
              "      <td>380690</td>\n",
              "      <td>4</td>\n",
              "      <td>0</td>\n",
              "      <td>0</td>\n",
              "      <td>0</td>\n",
              "    </tr>\n",
              "  </tbody>\n",
              "</table>\n",
              "<p>5 rows × 35 columns</p>\n",
              "</div>\n",
              "      <button class=\"colab-df-convert\" onclick=\"convertToInteractive('df-027beeaa-eb1d-450f-9eb0-030b854608eb')\"\n",
              "              title=\"Convert this dataframe to an interactive table.\"\n",
              "              style=\"display:none;\">\n",
              "        \n",
              "  <svg xmlns=\"http://www.w3.org/2000/svg\" height=\"24px\"viewBox=\"0 0 24 24\"\n",
              "       width=\"24px\">\n",
              "    <path d=\"M0 0h24v24H0V0z\" fill=\"none\"/>\n",
              "    <path d=\"M18.56 5.44l.94 2.06.94-2.06 2.06-.94-2.06-.94-.94-2.06-.94 2.06-2.06.94zm-11 1L8.5 8.5l.94-2.06 2.06-.94-2.06-.94L8.5 2.5l-.94 2.06-2.06.94zm10 10l.94 2.06.94-2.06 2.06-.94-2.06-.94-.94-2.06-.94 2.06-2.06.94z\"/><path d=\"M17.41 7.96l-1.37-1.37c-.4-.4-.92-.59-1.43-.59-.52 0-1.04.2-1.43.59L10.3 9.45l-7.72 7.72c-.78.78-.78 2.05 0 2.83L4 21.41c.39.39.9.59 1.41.59.51 0 1.02-.2 1.41-.59l7.78-7.78 2.81-2.81c.8-.78.8-2.07 0-2.86zM5.41 20L4 18.59l7.72-7.72 1.47 1.35L5.41 20z\"/>\n",
              "  </svg>\n",
              "      </button>\n",
              "      \n",
              "  <style>\n",
              "    .colab-df-container {\n",
              "      display:flex;\n",
              "      flex-wrap:wrap;\n",
              "      gap: 12px;\n",
              "    }\n",
              "\n",
              "    .colab-df-convert {\n",
              "      background-color: #E8F0FE;\n",
              "      border: none;\n",
              "      border-radius: 50%;\n",
              "      cursor: pointer;\n",
              "      display: none;\n",
              "      fill: #1967D2;\n",
              "      height: 32px;\n",
              "      padding: 0 0 0 0;\n",
              "      width: 32px;\n",
              "    }\n",
              "\n",
              "    .colab-df-convert:hover {\n",
              "      background-color: #E2EBFA;\n",
              "      box-shadow: 0px 1px 2px rgba(60, 64, 67, 0.3), 0px 1px 3px 1px rgba(60, 64, 67, 0.15);\n",
              "      fill: #174EA6;\n",
              "    }\n",
              "\n",
              "    [theme=dark] .colab-df-convert {\n",
              "      background-color: #3B4455;\n",
              "      fill: #D2E3FC;\n",
              "    }\n",
              "\n",
              "    [theme=dark] .colab-df-convert:hover {\n",
              "      background-color: #434B5C;\n",
              "      box-shadow: 0px 1px 3px 1px rgba(0, 0, 0, 0.15);\n",
              "      filter: drop-shadow(0px 1px 2px rgba(0, 0, 0, 0.3));\n",
              "      fill: #FFFFFF;\n",
              "    }\n",
              "  </style>\n",
              "\n",
              "      <script>\n",
              "        const buttonEl =\n",
              "          document.querySelector('#df-027beeaa-eb1d-450f-9eb0-030b854608eb button.colab-df-convert');\n",
              "        buttonEl.style.display =\n",
              "          google.colab.kernel.accessAllowed ? 'block' : 'none';\n",
              "\n",
              "        async function convertToInteractive(key) {\n",
              "          const element = document.querySelector('#df-027beeaa-eb1d-450f-9eb0-030b854608eb');\n",
              "          const dataTable =\n",
              "            await google.colab.kernel.invokeFunction('convertToInteractive',\n",
              "                                                     [key], {});\n",
              "          if (!dataTable) return;\n",
              "\n",
              "          const docLinkHtml = 'Like what you see? Visit the ' +\n",
              "            '<a target=\"_blank\" href=https://colab.research.google.com/notebooks/data_table.ipynb>data table notebook</a>'\n",
              "            + ' to learn more about interactive tables.';\n",
              "          element.innerHTML = '';\n",
              "          dataTable['output_type'] = 'display_data';\n",
              "          await google.colab.output.renderOutput(dataTable, element);\n",
              "          const docLink = document.createElement('div');\n",
              "          docLink.innerHTML = docLinkHtml;\n",
              "          element.appendChild(docLink);\n",
              "        }\n",
              "      </script>\n",
              "    </div>\n",
              "  </div>\n",
              "  "
            ]
          },
          "metadata": {},
          "execution_count": 6
        }
      ],
      "source": [
        "dataset.head()"
      ]
    },
    {
      "cell_type": "code",
      "execution_count": 7,
      "metadata": {
        "colab": {
          "base_uri": "https://localhost:8080/"
        },
        "id": "0sss5XXnhVqd",
        "outputId": "cd785ddc-100a-4a9a-e645-5e02b9d47034"
      },
      "outputs": [
        {
          "output_type": "stream",
          "name": "stdout",
          "text": [
            "The current time in india is : 2022-08-25 23:16:54.860890+05:30\n"
          ]
        }
      ],
      "source": [
        "print(\"The current time in india is :\", current_time)"
      ]
    },
    {
      "cell_type": "code",
      "execution_count": 8,
      "metadata": {
        "id": "ftY_mrGiWSRQ"
      },
      "outputs": [],
      "source": [
        "# we are dropping a column named classification in the copy of the dataset\n",
        "dataset2 = dataset.drop(['classification'], axis=1)"
      ]
    },
    {
      "cell_type": "code",
      "execution_count": 9,
      "metadata": {
        "id": "XOJm8NYBWSRQ"
      },
      "outputs": [],
      "source": [
        "X = dataset2.iloc[:,1:].values\n",
        "y = dataset.iloc[:, 2].values"
      ]
    },
    {
      "cell_type": "code",
      "execution_count": 10,
      "metadata": {
        "colab": {
          "base_uri": "https://localhost:8080/"
        },
        "id": "lFPOf4UUWSRR",
        "outputId": "64fe6968-69f9-4ccb-e866-d260502d24c9"
      },
      "outputs": [
        {
          "output_type": "stream",
          "name": "stdout",
          "text": [
            "[[   0    0    0 ...    0    0    0]\n",
            " [   1    0    0 ...    0    0    0]\n",
            " [   2    0    0 ...    0    0    0]\n",
            " ...\n",
            " [ 997 4096    0 ...    0    0    0]\n",
            " [ 998 4096    0 ...    0    0    0]\n",
            " [ 999 4096    0 ...    0    0    0]]\n"
          ]
        }
      ],
      "source": [
        "print(X)"
      ]
    },
    {
      "cell_type": "code",
      "execution_count": 11,
      "metadata": {
        "colab": {
          "base_uri": "https://localhost:8080/"
        },
        "id": "OlTZwk5vWSRR",
        "outputId": "0ca49f6b-3fa2-402c-c946-c3abcca84f15"
      },
      "outputs": [
        {
          "output_type": "stream",
          "name": "stdout",
          "text": [
            "['malware' 'malware' 'malware' ... 'malware' 'malware' 'malware']\n"
          ]
        }
      ],
      "source": [
        "print(y)"
      ]
    },
    {
      "cell_type": "markdown",
      "metadata": {
        "id": "-MEWoVJJf1fU"
      },
      "source": [
        "### Label Encoding"
      ]
    },
    {
      "cell_type": "code",
      "execution_count": 12,
      "metadata": {
        "id": "FnnbHBhbWSRS"
      },
      "outputs": [],
      "source": [
        "from sklearn import preprocessing"
      ]
    },
    {
      "cell_type": "code",
      "execution_count": 13,
      "metadata": {
        "colab": {
          "base_uri": "https://localhost:8080/"
        },
        "id": "ZjMtK8Jsg-Rw",
        "outputId": "55228643-a1b1-4de1-9ec7-a459b698abdd"
      },
      "outputs": [
        {
          "output_type": "stream",
          "name": "stdout",
          "text": [
            "The current time in india is : 2022-08-25 23:16:54.860890+05:30\n"
          ]
        }
      ],
      "source": [
        "print(\"The current time in india is :\", current_time)"
      ]
    },
    {
      "cell_type": "code",
      "execution_count": 14,
      "metadata": {
        "id": "ebPvCsboWSRT"
      },
      "outputs": [],
      "source": [
        "le = preprocessing.LabelEncoder()\n",
        "y = le.fit_transform(y)"
      ]
    },
    {
      "cell_type": "code",
      "execution_count": 15,
      "metadata": {
        "colab": {
          "base_uri": "https://localhost:8080/"
        },
        "id": "uDY1goT2WSRT",
        "outputId": "b4520c39-78e1-4440-b563-fbd0ba8ed4cd"
      },
      "outputs": [
        {
          "output_type": "stream",
          "name": "stdout",
          "text": [
            "[1 1 1 ... 1 1 1]\n"
          ]
        }
      ],
      "source": [
        "print(y)"
      ]
    },
    {
      "cell_type": "markdown",
      "metadata": {
        "id": "xkX69dr-f7NX"
      },
      "source": [
        "###Splitting the dataset into the Training set and Test set"
      ]
    },
    {
      "cell_type": "code",
      "execution_count": 16,
      "metadata": {
        "id": "MKX9Qw2gWSRU"
      },
      "outputs": [],
      "source": [
        "from sklearn.model_selection import train_test_split\n",
        "\n",
        "X_train, X_test, y_train, y_test = train_test_split(X, y, test_size = 0.25, random_state = 0)"
      ]
    },
    {
      "cell_type": "code",
      "execution_count": 17,
      "metadata": {
        "colab": {
          "base_uri": "https://localhost:8080/"
        },
        "id": "8LNkWeDsg_Yj",
        "outputId": "cd22e71c-0582-42c6-80dc-170f97f59417"
      },
      "outputs": [
        {
          "output_type": "stream",
          "name": "stdout",
          "text": [
            "The current time in india is : 2022-08-25 23:16:54.860890+05:30\n"
          ]
        }
      ],
      "source": [
        "print(\"The current time in india is :\", current_time)"
      ]
    },
    {
      "cell_type": "code",
      "execution_count": 18,
      "metadata": {
        "colab": {
          "base_uri": "https://localhost:8080/"
        },
        "id": "jRW8C-iMWSRV",
        "outputId": "416b5e3a-5779-44d3-9829-7c7fb5f128f9"
      },
      "outputs": [
        {
          "output_type": "stream",
          "name": "stdout",
          "text": [
            "[[  606 12288     0 ...    10     0     0]\n",
            " [  228 28672     0 ...     0     0     0]\n",
            " [  382  4096     0 ...     1     0     0]\n",
            " ...\n",
            " [  613 12288     0 ...    11     0     0]\n",
            " [  567  4096     0 ...     2     0     0]\n",
            " [  268     0     0 ...     0     0     0]]\n"
          ]
        }
      ],
      "source": [
        "print(X_train)"
      ]
    },
    {
      "cell_type": "code",
      "execution_count": 19,
      "metadata": {
        "colab": {
          "base_uri": "https://localhost:8080/"
        },
        "id": "vw4ADabHWSRV",
        "outputId": "f9f28b4f-ec01-4315-adf6-1d4aba97d0da"
      },
      "outputs": [
        {
          "output_type": "stream",
          "name": "stdout",
          "text": [
            "[0 1 0 ... 0 0 1]\n"
          ]
        }
      ],
      "source": [
        "print(y_train)"
      ]
    },
    {
      "cell_type": "code",
      "execution_count": 20,
      "metadata": {
        "colab": {
          "base_uri": "https://localhost:8080/"
        },
        "id": "uW-PTUzfWSRW",
        "outputId": "cf814096-d2f1-4be5-d76c-3cdc6ad1f7f7"
      },
      "outputs": [
        {
          "output_type": "stream",
          "name": "stdout",
          "text": [
            "[[    582       0       0 ...       8       0       0]\n",
            " [    498       0       0 ...       0       0       0]\n",
            " [    227 1028096       0 ...       4       0       0]\n",
            " ...\n",
            " [    585    4096       0 ...       0       0       0]\n",
            " [    519       0       0 ...       7       0       0]\n",
            " [    831       0       0 ...       0       0       0]]\n"
          ]
        }
      ],
      "source": [
        "print(X_test)"
      ]
    },
    {
      "cell_type": "code",
      "execution_count": 21,
      "metadata": {
        "colab": {
          "base_uri": "https://localhost:8080/"
        },
        "id": "RahjyjtJhByD",
        "outputId": "29eb63e3-4b82-4324-9409-2bfcb31077d5"
      },
      "outputs": [
        {
          "output_type": "stream",
          "name": "stdout",
          "text": [
            "The current time in india is : 2022-08-25 23:16:54.860890+05:30\n"
          ]
        }
      ],
      "source": [
        "print(\"The current time in india is :\", current_time)"
      ]
    },
    {
      "cell_type": "code",
      "execution_count": 22,
      "metadata": {
        "colab": {
          "base_uri": "https://localhost:8080/"
        },
        "id": "G-tmmcuXWSRW",
        "outputId": "f403f4ad-6423-45ee-dbb7-f6c663f5f849"
      },
      "outputs": [
        {
          "output_type": "stream",
          "name": "stdout",
          "text": [
            "[1 0 0 ... 1 0 0]\n"
          ]
        }
      ],
      "source": [
        "print(y_test)"
      ]
    },
    {
      "cell_type": "markdown",
      "metadata": {
        "id": "H-HGuGKBgAR7"
      },
      "source": [
        "### Feature Scaling"
      ]
    },
    {
      "cell_type": "code",
      "execution_count": 23,
      "metadata": {
        "id": "DD8Se1OlWSRX"
      },
      "outputs": [],
      "source": [
        "from sklearn.preprocessing import StandardScaler\n",
        "sc = StandardScaler()\n",
        "X_train = sc.fit_transform(X_train)\n",
        "X_test = sc.transform(X_test)"
      ]
    },
    {
      "cell_type": "code",
      "execution_count": 24,
      "metadata": {
        "colab": {
          "base_uri": "https://localhost:8080/"
        },
        "id": "gmJobc2EhC8e",
        "outputId": "ef09fd0d-0f39-49fd-af8f-176605953a43"
      },
      "outputs": [
        {
          "output_type": "stream",
          "name": "stdout",
          "text": [
            "The current time in india is : 2022-08-25 23:16:54.860890+05:30\n"
          ]
        }
      ],
      "source": [
        "print(\"The current time in india is :\", current_time)"
      ]
    },
    {
      "cell_type": "code",
      "execution_count": 25,
      "metadata": {
        "colab": {
          "base_uri": "https://localhost:8080/"
        },
        "id": "nBGfsN-NWSRX",
        "outputId": "793306fd-04a7-4795-a9b4-e1a36c357d68"
      },
      "outputs": [
        {
          "output_type": "stream",
          "name": "stdout",
          "text": [
            "[[ 0.36731703 -0.15969785  0.         ...  2.5559669   0.\n",
            "   0.        ]\n",
            " [-0.941068   -0.14179605  0.         ... -0.50896701  0.\n",
            "   0.        ]\n",
            " [-0.40802225 -0.16864875  0.         ... -0.20247362  0.\n",
            "   0.        ]\n",
            " ...\n",
            " [ 0.39154638 -0.15969785  0.         ...  2.8624603   0.\n",
            "   0.        ]\n",
            " [ 0.23232492 -0.16864875  0.         ...  0.10401977  0.\n",
            "   0.        ]\n",
            " [-0.80261455 -0.1731242   0.         ... -0.50896701  0.\n",
            "   0.        ]]\n"
          ]
        }
      ],
      "source": [
        "print(X_train)"
      ]
    },
    {
      "cell_type": "code",
      "execution_count": 26,
      "metadata": {
        "colab": {
          "base_uri": "https://localhost:8080/"
        },
        "id": "0OHyCX4YhEEA",
        "outputId": "718c2a94-2a52-46ad-9754-23d52acc3e15"
      },
      "outputs": [
        {
          "output_type": "stream",
          "name": "stdout",
          "text": [
            "The current time in india is : 2022-08-25 23:16:54.860890+05:30\n"
          ]
        }
      ],
      "source": [
        "print(\"The current time in india is :\", current_time)"
      ]
    },
    {
      "cell_type": "code",
      "execution_count": 27,
      "metadata": {
        "colab": {
          "base_uri": "https://localhost:8080/"
        },
        "id": "CqXw-yuzWSRX",
        "outputId": "570eb19d-2519-46bd-9917-86ccf1a36a39"
      },
      "outputs": [
        {
          "output_type": "stream",
          "name": "stdout",
          "text": [
            "[[ 0.28424496 -0.1731242   0.         ...  1.94298012  0.\n",
            "   0.        ]\n",
            " [-0.00650727 -0.1731242   0.         ... -0.50896701  0.\n",
            "   0.        ]\n",
            " [-0.94452933  0.95021383  0.         ...  0.71700655  0.\n",
            "   0.        ]\n",
            " ...\n",
            " [ 0.29462897 -0.16864875  0.         ... -0.50896701  0.\n",
            "   0.        ]\n",
            " [ 0.06618079 -0.1731242   0.         ...  1.63648673  0.\n",
            "   0.        ]\n",
            " [ 1.14611763 -0.1731242   0.         ... -0.50896701  0.\n",
            "   0.        ]]\n"
          ]
        }
      ],
      "source": [
        "print(X_test)"
      ]
    },
    {
      "cell_type": "markdown",
      "metadata": {
        "id": "wA4R7BOcgJPx"
      },
      "source": [
        "### Training Model on the Training set"
      ]
    },
    {
      "cell_type": "code",
      "execution_count": 28,
      "metadata": {
        "colab": {
          "base_uri": "https://localhost:8080/"
        },
        "id": "ON5YNGX0WSRY",
        "outputId": "6878fd04-78af-41e0-c3db-055255f1cad4"
      },
      "outputs": [
        {
          "output_type": "execute_result",
          "data": {
            "text/plain": [
              "LogisticRegression(random_state=0)"
            ]
          },
          "metadata": {},
          "execution_count": 28
        }
      ],
      "source": [
        "from sklearn.linear_model import LogisticRegression\n",
        "classifier = LogisticRegression(C=1.0, class_weight=None, dual=False, fit_intercept=True,\n",
        " intercept_scaling=1, l1_ratio=None, max_iter=100,\n",
        " multi_class='auto', n_jobs=None, penalty='l2',\n",
        " random_state=0, solver='lbfgs', tol=0.0001, verbose=0,\n",
        " warm_start=False)\n",
        "classifier.fit(X_train, y_train)"
      ]
    },
    {
      "cell_type": "code",
      "execution_count": 29,
      "metadata": {
        "colab": {
          "base_uri": "https://localhost:8080/"
        },
        "id": "vj6M8S7uhGA0",
        "outputId": "e4fc21f4-472c-410c-afff-9143ed2aada9"
      },
      "outputs": [
        {
          "output_type": "stream",
          "name": "stdout",
          "text": [
            "The current time in india is : 2022-08-25 23:16:54.860890+05:30\n"
          ]
        }
      ],
      "source": [
        "print(\"The current time in india is :\", current_time)"
      ]
    },
    {
      "cell_type": "markdown",
      "metadata": {
        "id": "_P1YOIAugQOG"
      },
      "source": [
        "### Predicting the Test set results"
      ]
    },
    {
      "cell_type": "code",
      "execution_count": 30,
      "metadata": {
        "id": "5bghRLXJWSRY"
      },
      "outputs": [],
      "source": [
        "y_pred = classifier.predict(X_test)\n"
      ]
    },
    {
      "cell_type": "code",
      "execution_count": 31,
      "metadata": {
        "colab": {
          "base_uri": "https://localhost:8080/"
        },
        "id": "u-Y36FOtwUTf",
        "outputId": "8f42ce1d-303e-4b4c-9862-047408f2607b"
      },
      "outputs": [
        {
          "output_type": "execute_result",
          "data": {
            "text/plain": [
              "array([1, 0, 0, ..., 1, 0, 0])"
            ]
          },
          "metadata": {},
          "execution_count": 31
        }
      ],
      "source": [
        "y_pred"
      ]
    },
    {
      "cell_type": "code",
      "execution_count": 32,
      "metadata": {
        "colab": {
          "base_uri": "https://localhost:8080/"
        },
        "id": "-0hJxecgwSdz",
        "outputId": "8ce5e1d4-0cf4-47c9-c403-d2d53ba0b8f6"
      },
      "outputs": [
        {
          "output_type": "stream",
          "name": "stdout",
          "text": [
            "[[1 1]\n",
            " [0 0]\n",
            " [0 0]\n",
            " ...\n",
            " [1 1]\n",
            " [0 0]\n",
            " [0 0]]\n"
          ]
        }
      ],
      "source": [
        "print(np.concatenate((y_pred.reshape(len(y_pred),1), y_test.reshape(len(y_test),1)),1))"
      ]
    },
    {
      "cell_type": "code",
      "execution_count": 33,
      "metadata": {
        "colab": {
          "base_uri": "https://localhost:8080/"
        },
        "id": "TMZ4XUnuhHVA",
        "outputId": "672e5ae6-af49-4136-e4ee-cee460c68ac0"
      },
      "outputs": [
        {
          "output_type": "stream",
          "name": "stdout",
          "text": [
            "The current time in india is : 2022-08-25 23:16:54.860890+05:30\n"
          ]
        }
      ],
      "source": [
        "print(\"The current time in india is :\", current_time)"
      ]
    },
    {
      "cell_type": "code",
      "execution_count": 34,
      "metadata": {
        "id": "SA_OJEMhqn8F"
      },
      "outputs": [],
      "source": [
        "from sklearn.metrics import roc_curve,accuracy_score,confusion_matrix,recall_score,precision_score,f1_score, auc, roc_auc_score"
      ]
    },
    {
      "cell_type": "markdown",
      "metadata": {
        "id": "YmOXmlOugT2n"
      },
      "source": [
        "### Confusion Matrix and Accuracy\n",
        "Accuracy = (TP+FN) / (TP+TN+FP+FN)"
      ]
    },
    {
      "cell_type": "code",
      "execution_count": 35,
      "metadata": {
        "colab": {
          "base_uri": "https://localhost:8080/"
        },
        "id": "-eBJQgUIWSRY",
        "outputId": "0e07c215-bb0f-4b6e-9d7d-83a7441f98f5"
      },
      "outputs": [
        {
          "output_type": "stream",
          "name": "stdout",
          "text": [
            "Confusion Matrix \n",
            "\n",
            "[[11590   938]\n",
            " [  560 11912]]\n",
            "\n",
            " Accuracy\n"
          ]
        },
        {
          "output_type": "execute_result",
          "data": {
            "text/plain": [
              "0.94008"
            ]
          },
          "metadata": {},
          "execution_count": 35
        }
      ],
      "source": [
        "from sklearn.metrics import confusion_matrix, accuracy_score\n",
        "cm = confusion_matrix(y_test, y_pred)\n",
        "print(\"Confusion Matrix \\n\")\n",
        "print(cm)\n",
        "\n",
        "print(\"\\n Accuracy\")\n",
        "accuracy_score(y_test, y_pred)"
      ]
    },
    {
      "cell_type": "code",
      "execution_count": 36,
      "metadata": {
        "colab": {
          "base_uri": "https://localhost:8080/"
        },
        "id": "jsih5IYihIsz",
        "outputId": "75aee4e0-4917-445f-b318-da3be887098a"
      },
      "outputs": [
        {
          "output_type": "stream",
          "name": "stdout",
          "text": [
            "The current time in india is : 2022-08-25 23:16:54.860890+05:30\n"
          ]
        }
      ],
      "source": [
        "print(\"The current time in india is :\", current_time)"
      ]
    },
    {
      "cell_type": "markdown",
      "metadata": {
        "id": "2KhqRRVDT4wo"
      },
      "source": [
        "### Precision\n",
        "Precision = TP / (TP+FP)"
      ]
    },
    {
      "cell_type": "code",
      "execution_count": 37,
      "metadata": {
        "colab": {
          "base_uri": "https://localhost:8080/"
        },
        "id": "adA5CYrqhdLy",
        "outputId": "77449b58-9791-434a-9d57-03504430704c"
      },
      "outputs": [
        {
          "output_type": "stream",
          "name": "stdout",
          "text": [
            "Positive Precision\n",
            "0.9270038910505837\n",
            "\n",
            "Negative Precision\n",
            "0.9539094650205762\n"
          ]
        }
      ],
      "source": [
        "import sklearn.metrics as metrics\n",
        "from sklearn.metrics import precision_score, recall_score, f1_score, accuracy_score\n",
        "\n",
        "precision_positive = metrics.precision_score(y_test, y_pred, pos_label=1)\n",
        "precision_negative = metrics.precision_score(y_test, y_pred, pos_label=0)\n",
        "print(\"Positive Precision\")\n",
        "print(precision_positive)\n",
        "print(\"\")\n",
        "print(\"Negative Precision\")\n",
        "print(precision_negative)"
      ]
    },
    {
      "cell_type": "code",
      "execution_count": 38,
      "metadata": {
        "colab": {
          "base_uri": "https://localhost:8080/"
        },
        "id": "bJw2nQA7hdYk",
        "outputId": "63f8e809-bb24-4526-a07e-941f7e00836f"
      },
      "outputs": [
        {
          "output_type": "stream",
          "name": "stdout",
          "text": [
            "The current time in india is : 2022-08-25 23:16:54.860890+05:30\n"
          ]
        }
      ],
      "source": [
        "print(\"The current time in india is :\", current_time)"
      ]
    },
    {
      "cell_type": "markdown",
      "metadata": {
        "id": "Ib_bYqD2KZgW"
      },
      "source": [
        "### Recall\n",
        "Recall = TP / (TP+FN)"
      ]
    },
    {
      "cell_type": "code",
      "execution_count": 39,
      "metadata": {
        "colab": {
          "base_uri": "https://localhost:8080/"
        },
        "id": "Ct_Ku4I7T1Kn",
        "outputId": "a58f2b58-f050-49a3-e747-c402169cadfe"
      },
      "outputs": [
        {
          "output_type": "stream",
          "name": "stdout",
          "text": [
            "0.9550994227068633 0.9251277139208174\n"
          ]
        }
      ],
      "source": [
        "recall_sensitivity = metrics.recall_score(y_test, y_pred, pos_label=1)\n",
        "recall_specificity = metrics.recall_score(y_test, y_pred, pos_label=0)\n",
        "print(recall_sensitivity, recall_specificity)\n"
      ]
    },
    {
      "cell_type": "code",
      "execution_count": 40,
      "metadata": {
        "colab": {
          "base_uri": "https://localhost:8080/"
        },
        "id": "QrcmrhqhT1NC",
        "outputId": "0e3a3356-0245-448b-8ac3-e69b1822a81e"
      },
      "outputs": [
        {
          "output_type": "stream",
          "name": "stdout",
          "text": [
            "The current time in india is : 2022-08-25 23:16:54.860890+05:30\n"
          ]
        }
      ],
      "source": [
        "print(\"The current time in india is :\", current_time)"
      ]
    },
    {
      "cell_type": "markdown",
      "metadata": {
        "id": "j8ZCOfWhwe4g"
      },
      "source": [
        "###F1 Score\n",
        "\n",
        "F1 Score = 2*(Precision * Recall)/(Precision + Recall)"
      ]
    },
    {
      "cell_type": "code",
      "execution_count": 41,
      "metadata": {
        "colab": {
          "base_uri": "https://localhost:8080/"
        },
        "id": "bjcBve_hwg_K",
        "outputId": "ffedbf52-7f63-4e58-e940-93788c234ba5"
      },
      "outputs": [
        {
          "output_type": "stream",
          "name": "stdout",
          "text": [
            "F1 Score\n",
            "0.940841955611721\n"
          ]
        }
      ],
      "source": [
        "f1_score = 2*(precision_positive * recall_sensitivity) / (precision_positive + recall_sensitivity )\n",
        "print(\"F1 Score\")\n",
        "print(f1_score)"
      ]
    },
    {
      "cell_type": "code",
      "execution_count": 42,
      "metadata": {
        "colab": {
          "base_uri": "https://localhost:8080/"
        },
        "id": "YQkxK3f6T1PZ",
        "outputId": "61f0d904-647d-4bfd-d0e7-6b730f43fe6a"
      },
      "outputs": [
        {
          "output_type": "stream",
          "name": "stdout",
          "text": [
            "The current time in india is : 2022-08-25 23:16:54.860890+05:30\n"
          ]
        }
      ],
      "source": [
        "print(\"The current time in india is :\", current_time)"
      ]
    },
    {
      "cell_type": "markdown",
      "metadata": {
        "id": "M2qDVJs2xPyh"
      },
      "source": [
        "###ROC curve [Receiver Operator Characteristic Curve]"
      ]
    },
    {
      "cell_type": "code",
      "execution_count": 43,
      "metadata": {
        "colab": {
          "base_uri": "https://localhost:8080/"
        },
        "id": "gaq5Fj2sT1Rs",
        "outputId": "9aafddac-872d-4698-dd1d-1f721792caa8"
      },
      "outputs": [
        {
          "output_type": "stream",
          "name": "stdout",
          "text": [
            "ROC-AUC score 0.9401135683138404\n",
            "ROC-AUC score 0.9401135683138404\n"
          ]
        }
      ],
      "source": [
        "import sklearn.metrics as metrics\n",
        "# calculate the fpr and tpr for all thresholds of the classification\n",
        "fpr, tpr, threshold = metrics.roc_curve(y_test, y_pred)\n",
        "roc_auc = metrics.auc(fpr, tpr) \n",
        "print('ROC-AUC score', roc_auc_score(y_test,y_pred))\n",
        "print('ROC-AUC score', roc_auc)"
      ]
    },
    {
      "cell_type": "code",
      "execution_count": 44,
      "metadata": {
        "colab": {
          "base_uri": "https://localhost:8080/"
        },
        "id": "eO51-J8xrA3Y",
        "outputId": "9580e725-dba4-46b9-c67b-cc423bbdca37"
      },
      "outputs": [
        {
          "output_type": "execute_result",
          "data": {
            "text/plain": [
              "array([0.        , 0.07487229, 1.        ])"
            ]
          },
          "metadata": {},
          "execution_count": 44
        }
      ],
      "source": [
        "fpr"
      ]
    },
    {
      "cell_type": "code",
      "execution_count": 45,
      "metadata": {
        "colab": {
          "base_uri": "https://localhost:8080/"
        },
        "id": "loGQp_HVrDFg",
        "outputId": "2c12ba3c-06a9-49b7-8f48-be9202ba5185"
      },
      "outputs": [
        {
          "output_type": "execute_result",
          "data": {
            "text/plain": [
              "array([0.        , 0.95509942, 1.        ])"
            ]
          },
          "metadata": {},
          "execution_count": 45
        }
      ],
      "source": [
        "tpr"
      ]
    },
    {
      "cell_type": "code",
      "execution_count": 46,
      "metadata": {
        "colab": {
          "base_uri": "https://localhost:8080/"
        },
        "id": "T26wy9igrFWG",
        "outputId": "3f4a054c-d403-4a82-85d1-793bb4b79016"
      },
      "outputs": [
        {
          "output_type": "execute_result",
          "data": {
            "text/plain": [
              "array([2, 1, 0])"
            ]
          },
          "metadata": {},
          "execution_count": 46
        }
      ],
      "source": [
        "threshold"
      ]
    },
    {
      "cell_type": "code",
      "execution_count": 47,
      "metadata": {
        "colab": {
          "base_uri": "https://localhost:8080/"
        },
        "id": "rB88lRuZrGvs",
        "outputId": "f93b51e0-7686-4e0f-e6d6-d83673907874"
      },
      "outputs": [
        {
          "output_type": "execute_result",
          "data": {
            "text/plain": [
              "0.9401135683138404"
            ]
          },
          "metadata": {},
          "execution_count": 47
        }
      ],
      "source": [
        "roc_auc"
      ]
    },
    {
      "cell_type": "code",
      "execution_count": 48,
      "metadata": {
        "id": "0bL2T20LCOhD"
      },
      "outputs": [],
      "source": [
        "from plotnine import *"
      ]
    },
    {
      "cell_type": "code",
      "execution_count": 49,
      "metadata": {
        "colab": {
          "base_uri": "https://localhost:8080/",
          "height": 464
        },
        "id": "0AkqFNjYT1Tx",
        "outputId": "7508decb-b6b7-4dbe-f3a9-6a68eb654e0f"
      },
      "outputs": [
        {
          "output_type": "display_data",
          "data": {
            "text/plain": [
              "<Figure size 640x480 with 1 Axes>"
            ],
            "image/png": "[encoded data removed]"
          },
          "metadata": {}
        },
        {
          "output_type": "execute_result",
          "data": {
            "text/plain": [
              "<ggplot: (8794592657141)>"
            ]
          },
          "metadata": {},
          "execution_count": 49
        }
      ],
      "source": [
        "df = pd.DataFrame(dict(fpr = fpr, tpr = tpr))\n",
        "ggplot(df, aes(x = 'fpr', y = 'tpr')) + geom_line() + geom_abline(linetype = 'dashed')"
      ]
    },
    {
      "cell_type": "code",
      "execution_count": 50,
      "metadata": {
        "colab": {
          "base_uri": "https://localhost:8080/",
          "height": 312
        },
        "id": "k2UXKyvtrgpC",
        "outputId": "b0cfc1b7-b69f-418b-aef7-49f9dcadb998"
      },
      "outputs": [
        {
          "output_type": "execute_result",
          "data": {
            "text/plain": [
              "<matplotlib.legend.Legend at 0x7ffa5ab4b5d0>"
            ]
          },
          "metadata": {},
          "execution_count": 50
        },
        {
          "output_type": "display_data",
          "data": {
            "text/plain": [
              "<Figure size 432x288 with 1 Axes>"
            ],
            "image/png": "[encoded data removed]"
          },
          "metadata": {
            "needs_background": "light"
          }
        }
      ],
      "source": [
        "plt.plot(fpr, tpr, label='ROC curve (area = %0.3f)' % roc_auc)\n",
        "plt.plot([0, 1], [0, 1], 'k--')  # random predictions curve\n",
        "plt.xlim([0.0, 1.0])\n",
        "plt.ylim([0.0, 1.0])\n",
        "plt.xlabel('False Positive Rate or (1 - Specifity)')\n",
        "plt.ylabel('True Positive Rate or (Sensitivity)')\n",
        "plt.title('Receiver Operating Characteristic')\n",
        "plt.legend(loc=\"lower right\")"
      ]
    },
    {
      "cell_type": "markdown",
      "metadata": {
        "id": "UL1HbJRMJFG1"
      },
      "source": [
        "### Discounted Cumulative Gain [DCG]"
      ]
    },
    {
      "cell_type": "code",
      "execution_count": 51,
      "metadata": {
        "id": "alvudmkbTBP3",
        "colab": {
          "base_uri": "https://localhost:8080/"
        },
        "outputId": "68340eb9-be5b-4d6b-e327-b38b71f18430"
      },
      "outputs": [
        {
          "output_type": "stream",
          "name": "stdout",
          "text": [
            "DCG score :  1036.2101463615347\n"
          ]
        }
      ],
      "source": [
        "from sklearn.metrics import ndcg_score, dcg_score\n",
        "\n",
        "# Relevance scores in Ideal order\n",
        "true_relevance = np.asarray([y_test])\n",
        "\n",
        "# Relevance scores in output order\n",
        "relevance_score = np.asarray([y_pred])\n",
        "\n",
        "# DCG score\n",
        "dcg = dcg_score(true_relevance, relevance_score)\n",
        "print(\"DCG score : \", dcg)"
      ]
    },
    {
      "cell_type": "code",
      "execution_count": 52,
      "metadata": {
        "colab": {
          "base_uri": "https://localhost:8080/"
        },
        "id": "2Q586i6NO160",
        "outputId": "a00ca0f3-be70-437d-aec7-e4003b8af7ba"
      },
      "outputs": [
        {
          "output_type": "stream",
          "name": "stdout",
          "text": [
            "The current time in india is : 2022-08-25 23:16:54.860890+05:30\n"
          ]
        }
      ],
      "source": [
        "print(\"The current time in india is :\", current_time)"
      ]
    },
    {
      "cell_type": "markdown",
      "source": [
        "### Printing Classification Report"
      ],
      "metadata": {
        "id": "uZnKLanFzVSz"
      }
    },
    {
      "cell_type": "code",
      "source": [
        "from sklearn.metrics import classification_report\n",
        "print(classification_report(y_test,y_pred))"
      ],
      "metadata": {
        "colab": {
          "base_uri": "https://localhost:8080/"
        },
        "id": "NweZYZRWzSgq",
        "outputId": "1bc76224-e391-4598-e835-e089a04d670a"
      },
      "execution_count": 53,
      "outputs": [
        {
          "output_type": "stream",
          "name": "stdout",
          "text": [
            "              precision    recall  f1-score   support\n",
            "\n",
            "           0       0.95      0.93      0.94     12528\n",
            "           1       0.93      0.96      0.94     12472\n",
            "\n",
            "    accuracy                           0.94     25000\n",
            "   macro avg       0.94      0.94      0.94     25000\n",
            "weighted avg       0.94      0.94      0.94     25000\n",
            "\n"
          ]
        }
      ]
    },
    {
      "cell_type": "code",
      "execution_count": 53,
      "metadata": {
        "id": "07NWvowbzCPh"
      },
      "outputs": [],
      "source": []
    },
    {
      "cell_type": "code",
      "execution_count": 53,
      "metadata": {
        "id": "CzYGqOLRzCS_"
      },
      "outputs": [],
      "source": []
    },
    {
      "cell_type": "markdown",
      "metadata": {
        "id": "TYx_vo5BhfP1"
      },
      "source": [
        "## Introduction to Naive Bayes"
      ]
    },
    {
      "cell_type": "code",
      "execution_count": 54,
      "metadata": {
        "id": "TQXU1kHZhdhJ"
      },
      "outputs": [],
      "source": [
        "from sklearn.naive_bayes import GaussianNB"
      ]
    },
    {
      "cell_type": "code",
      "execution_count": 55,
      "metadata": {
        "id": "fGjQJOfbhdkh",
        "colab": {
          "base_uri": "https://localhost:8080/"
        },
        "outputId": "af5c9993-04c7-4e3c-c4fe-f39d634385fe"
      },
      "outputs": [
        {
          "output_type": "execute_result",
          "data": {
            "text/plain": [
              "GaussianNB()"
            ]
          },
          "metadata": {},
          "execution_count": 55
        }
      ],
      "source": [
        "classifier_NB=GaussianNB()\n",
        "classifier_NB.fit(X_train,y_train)"
      ]
    },
    {
      "cell_type": "code",
      "execution_count": 56,
      "metadata": {
        "id": "YuHkpG9rvmXH"
      },
      "outputs": [],
      "source": [
        "y_pred_NB = classifier_NB.predict(X_test)"
      ]
    },
    {
      "cell_type": "code",
      "execution_count": 57,
      "metadata": {
        "id": "bwcrj8Plv0s6",
        "colab": {
          "base_uri": "https://localhost:8080/"
        },
        "outputId": "e82696fa-ebfd-4bda-f28c-4c1f91873920"
      },
      "outputs": [
        {
          "output_type": "execute_result",
          "data": {
            "text/plain": [
              "array([1, 1, 0, ..., 1, 0, 1])"
            ]
          },
          "metadata": {},
          "execution_count": 57
        }
      ],
      "source": [
        "y_pred_NB"
      ]
    },
    {
      "cell_type": "code",
      "source": [
        "print(\"The current time in india is :\", current_time)"
      ],
      "metadata": {
        "colab": {
          "base_uri": "https://localhost:8080/"
        },
        "id": "NSpQYlAdwGW5",
        "outputId": "5e34e174-3575-4e40-ae8a-5e821c717ca4"
      },
      "execution_count": 58,
      "outputs": [
        {
          "output_type": "stream",
          "name": "stdout",
          "text": [
            "The current time in india is : 2022-08-25 23:16:54.860890+05:30\n"
          ]
        }
      ]
    },
    {
      "cell_type": "code",
      "execution_count": 59,
      "metadata": {
        "id": "OKtaELyIvzrb",
        "colab": {
          "base_uri": "https://localhost:8080/"
        },
        "outputId": "7b4da9cd-482f-43f6-9678-f653195ed414"
      },
      "outputs": [
        {
          "output_type": "stream",
          "name": "stdout",
          "text": [
            "[[1 1]\n",
            " [1 0]\n",
            " [0 0]\n",
            " ...\n",
            " [1 1]\n",
            " [0 0]\n",
            " [1 0]]\n"
          ]
        }
      ],
      "source": [
        "print(np.concatenate((y_pred_NB.reshape(len(y_pred_NB),1), y_test.reshape(len(y_test),1)),1))"
      ]
    },
    {
      "cell_type": "code",
      "source": [
        "print(\"The current time in india is :\", current_time)"
      ],
      "metadata": {
        "colab": {
          "base_uri": "https://localhost:8080/"
        },
        "id": "IQhPigb6wI4M",
        "outputId": "33d2e2b3-2f59-4068-ffbc-536b8d4b344a"
      },
      "execution_count": 60,
      "outputs": [
        {
          "output_type": "stream",
          "name": "stdout",
          "text": [
            "The current time in india is : 2022-08-25 23:16:54.860890+05:30\n"
          ]
        }
      ]
    },
    {
      "cell_type": "markdown",
      "source": [
        "### Confusion Matrix and Accuracy"
      ],
      "metadata": {
        "id": "XN6Nf3cZ_I6D"
      }
    },
    {
      "cell_type": "code",
      "execution_count": 61,
      "metadata": {
        "id": "J3yk_uUywPdD",
        "colab": {
          "base_uri": "https://localhost:8080/"
        },
        "outputId": "87e0c0ba-e087-4d3c-e9e8-ed7361bbbd61"
      },
      "outputs": [
        {
          "output_type": "stream",
          "name": "stdout",
          "text": [
            "Confusion Matrix \n",
            "\n",
            "[[ 5711  6817]\n",
            " [  853 11619]]\n",
            "\n",
            " Accuracy\n"
          ]
        },
        {
          "output_type": "execute_result",
          "data": {
            "text/plain": [
              "0.6932"
            ]
          },
          "metadata": {},
          "execution_count": 61
        }
      ],
      "source": [
        "from sklearn.metrics import confusion_matrix, accuracy_score\n",
        "cm_NB = confusion_matrix(y_test, y_pred_NB)\n",
        "print(\"Confusion Matrix \\n\")\n",
        "print(cm_NB)\n",
        "\n",
        "print(\"\\n Accuracy\")\n",
        "accuracy_score(y_test, y_pred_NB)     "
      ]
    },
    {
      "cell_type": "code",
      "source": [
        "print(\"The current time in india is :\", current_time)"
      ],
      "metadata": {
        "colab": {
          "base_uri": "https://localhost:8080/"
        },
        "id": "1e6IqBhOwKQ2",
        "outputId": "724d4b4c-6112-4b48-9990-5bf92ae58bf4"
      },
      "execution_count": 62,
      "outputs": [
        {
          "output_type": "stream",
          "name": "stdout",
          "text": [
            "The current time in india is : 2022-08-25 23:16:54.860890+05:30\n"
          ]
        }
      ]
    },
    {
      "cell_type": "markdown",
      "source": [
        "### Precision"
      ],
      "metadata": {
        "id": "cbpEJCVw_MZP"
      }
    },
    {
      "cell_type": "code",
      "execution_count": 63,
      "metadata": {
        "id": "JoLvJwQHwrBP",
        "colab": {
          "base_uri": "https://localhost:8080/"
        },
        "outputId": "51c2ade0-4c3f-4f0d-c232-36169a89a67d"
      },
      "outputs": [
        {
          "output_type": "stream",
          "name": "stdout",
          "text": [
            "Positive Precision\n",
            "0.6302343241484053\n",
            "\n",
            "Negative Precision\n",
            "0.8700487507617306\n"
          ]
        }
      ],
      "source": [
        "import sklearn.metrics as metrics\n",
        "from sklearn.metrics import precision_score, recall_score, f1_score, accuracy_score\n",
        "\n",
        "precision_positive_NB = metrics.precision_score(y_test, y_pred_NB, pos_label=1)\n",
        "precision_negative_NB = metrics.precision_score(y_test, y_pred_NB, pos_label=0)\n",
        "print(\"Positive Precision\")\n",
        "print(precision_positive_NB)\n",
        "print(\"\")\n",
        "print(\"Negative Precision\")\n",
        "print(precision_negative_NB)"
      ]
    },
    {
      "cell_type": "code",
      "source": [
        "print(\"The current time in india is :\", current_time)"
      ],
      "metadata": {
        "colab": {
          "base_uri": "https://localhost:8080/"
        },
        "id": "crBM7oNGwLVJ",
        "outputId": "18dc374f-02cc-475f-c081-26cd405bbd67"
      },
      "execution_count": 64,
      "outputs": [
        {
          "output_type": "stream",
          "name": "stdout",
          "text": [
            "The current time in india is : 2022-08-25 23:16:54.860890+05:30\n"
          ]
        }
      ]
    },
    {
      "cell_type": "markdown",
      "source": [
        "### Recall"
      ],
      "metadata": {
        "id": "PJwNs8Ga_PUP"
      }
    },
    {
      "cell_type": "code",
      "execution_count": 65,
      "metadata": {
        "id": "hm3gZdXdxTDV",
        "colab": {
          "base_uri": "https://localhost:8080/"
        },
        "outputId": "407c2b8b-e28a-41e3-8706-9c2f49b7db3a"
      },
      "outputs": [
        {
          "output_type": "stream",
          "name": "stdout",
          "text": [
            "0.9550994227068633 0.9251277139208174\n"
          ]
        }
      ],
      "source": [
        "recall_sensitivity_NB = metrics.recall_score(y_test, y_pred_NB, pos_label=1)\n",
        "recall_specificity_NB = metrics.recall_score(y_test, y_pred_NB, pos_label=0)\n",
        "print(recall_sensitivity, recall_specificity)"
      ]
    },
    {
      "cell_type": "code",
      "source": [
        "print(\"The current time in india is :\", current_time)"
      ],
      "metadata": {
        "colab": {
          "base_uri": "https://localhost:8080/"
        },
        "id": "QUsJVp79wPhE",
        "outputId": "8bc3409a-0cd9-4159-c87a-5b10df79d688"
      },
      "execution_count": 66,
      "outputs": [
        {
          "output_type": "stream",
          "name": "stdout",
          "text": [
            "The current time in india is : 2022-08-25 23:16:54.860890+05:30\n"
          ]
        }
      ]
    },
    {
      "cell_type": "markdown",
      "source": [
        "### F1 Score\n"
      ],
      "metadata": {
        "id": "0sV3WlDr_gzc"
      }
    },
    {
      "cell_type": "code",
      "source": [
        "f1_score_NB = 2*(precision_positive_NB * recall_sensitivity_NB) / (precision_positive_NB + recall_sensitivity_NB )\n",
        "print(\"F1 Score\")\n",
        "print(f1_score_NB)"
      ],
      "metadata": {
        "colab": {
          "base_uri": "https://localhost:8080/"
        },
        "id": "Bj-7QxGl_Q-6",
        "outputId": "599a0815-81bb-4865-c1d8-cab110cea180"
      },
      "execution_count": 67,
      "outputs": [
        {
          "output_type": "stream",
          "name": "stdout",
          "text": [
            "F1 Score\n",
            "0.7518441827358613\n"
          ]
        }
      ]
    },
    {
      "cell_type": "code",
      "source": [
        "print(\"The current time in india is :\", current_time)"
      ],
      "metadata": {
        "colab": {
          "base_uri": "https://localhost:8080/"
        },
        "id": "SpqH930_wRpw",
        "outputId": "e848466c-c060-44a6-85bf-a177ad3e09ca"
      },
      "execution_count": 68,
      "outputs": [
        {
          "output_type": "stream",
          "name": "stdout",
          "text": [
            "The current time in india is : 2022-08-25 23:16:54.860890+05:30\n"
          ]
        }
      ]
    },
    {
      "cell_type": "markdown",
      "source": [
        "### ROC curve"
      ],
      "metadata": {
        "id": "XriBMMRM_3O8"
      }
    },
    {
      "cell_type": "code",
      "source": [
        "import sklearn.metrics as metrics\n",
        "# calculate the fpr and tpr for all thresholds of the classification\n",
        "fpr_NB, tpr_NB, threshold_NB = metrics.roc_curve(y_test, y_pred_NB)\n",
        "roc_auc_NB = metrics.auc(fpr_NB, tpr_NB) \n",
        "print('ROC-AUC score', roc_auc_score(y_test,y_pred_NB))\n",
        "print('ROC-AUC score', roc_auc_NB)"
      ],
      "metadata": {
        "colab": {
          "base_uri": "https://localhost:8080/"
        },
        "id": "yXC3Bcu9_RBS",
        "outputId": "0e39ae54-61b3-4838-83d6-3f0cfeabf9d3"
      },
      "execution_count": 69,
      "outputs": [
        {
          "output_type": "stream",
          "name": "stdout",
          "text": [
            "ROC-AUC score 0.6937328376738863\n",
            "ROC-AUC score 0.6937328376738863\n"
          ]
        }
      ]
    },
    {
      "cell_type": "code",
      "source": [
        "print(\"The current time in india is :\", current_time)"
      ],
      "metadata": {
        "colab": {
          "base_uri": "https://localhost:8080/"
        },
        "id": "_kqQruwkwTEP",
        "outputId": "31a7952d-2c5e-4bb9-9132-04973b9dd432"
      },
      "execution_count": 70,
      "outputs": [
        {
          "output_type": "stream",
          "name": "stdout",
          "text": [
            "The current time in india is : 2022-08-25 23:16:54.860890+05:30\n"
          ]
        }
      ]
    },
    {
      "cell_type": "code",
      "source": [
        "plt.plot(fpr_NB, tpr_NB, label='ROC curve (area = %0.3f)' % roc_auc_NB)\n",
        "plt.plot([0, 1], [0, 1], 'k--')  # random predictions curve\n",
        "plt.xlim([0.0, 1.0])\n",
        "plt.ylim([0.0, 1.0])\n",
        "plt.xlabel('False Positive Rate or (1 - Specifity)')\n",
        "plt.ylabel('True Positive Rate or (Sensitivity)')\n",
        "plt.title('Receiver Operating Characteristic')\n",
        "plt.legend(loc=\"lower right\")"
      ],
      "metadata": {
        "colab": {
          "base_uri": "https://localhost:8080/",
          "height": 312
        },
        "id": "9dI5l82G_RIA",
        "outputId": "9e104d20-c220-49d8-a192-433876f4dbe4"
      },
      "execution_count": 71,
      "outputs": [
        {
          "output_type": "execute_result",
          "data": {
            "text/plain": [
              "<matplotlib.legend.Legend at 0x7ffa5aa97850>"
            ]
          },
          "metadata": {},
          "execution_count": 71
        },
        {
          "output_type": "display_data",
          "data": {
            "text/plain": [
              "<Figure size 432x288 with 1 Axes>"
            ],
            "image/png": "[encoded data removed]"
          },
          "metadata": {
            "needs_background": "light"
          }
        }
      ]
    },
    {
      "cell_type": "code",
      "source": [
        "print(\"The current time in india is :\", current_time)"
      ],
      "metadata": {
        "colab": {
          "base_uri": "https://localhost:8080/"
        },
        "id": "DQpKA83EwVDg",
        "outputId": "028ed059-6466-4698-8113-9cb6e1f85254"
      },
      "execution_count": 72,
      "outputs": [
        {
          "output_type": "stream",
          "name": "stdout",
          "text": [
            "The current time in india is : 2022-08-25 23:16:54.860890+05:30\n"
          ]
        }
      ]
    },
    {
      "cell_type": "code",
      "source": [
        "from sklearn.metrics import ndcg_score, dcg_score\n",
        "\n",
        "# Relevance scores in Ideal order\n",
        "true_relevance_NB = np.asarray([y_test])\n",
        "\n",
        "# Relevance scores in output order\n",
        "relevance_score_NB = np.asarray([y_pred_NB])\n",
        "\n",
        "# DCG score\n",
        "dcg_NB = dcg_score(true_relevance_NB, relevance_score_NB)\n",
        "print(\"DCG score for naive bayes : \", dcg_NB)"
      ],
      "metadata": {
        "id": "spD-5_sSSLKa",
        "colab": {
          "base_uri": "https://localhost:8080/"
        },
        "outputId": "185c1445-7c76-40e8-fa17-3bc62fe14ad3"
      },
      "execution_count": 73,
      "outputs": [
        {
          "output_type": "stream",
          "name": "stdout",
          "text": [
            "DCG score for naive bayes :  989.6965442487457\n"
          ]
        }
      ]
    },
    {
      "cell_type": "markdown",
      "source": [
        "### Printing Classification report "
      ],
      "metadata": {
        "id": "C4sqoxGNzNK1"
      }
    },
    {
      "cell_type": "code",
      "source": [
        "from sklearn.metrics import classification_report\n",
        "print(classification_report(y_test,y_pred_NB))"
      ],
      "metadata": {
        "colab": {
          "base_uri": "https://localhost:8080/"
        },
        "id": "cl9zjk4Iy22a",
        "outputId": "d3084fd4-66d1-48b6-9483-30aec1c946d5"
      },
      "execution_count": 74,
      "outputs": [
        {
          "output_type": "stream",
          "name": "stdout",
          "text": [
            "              precision    recall  f1-score   support\n",
            "\n",
            "           0       0.87      0.46      0.60     12528\n",
            "           1       0.63      0.93      0.75     12472\n",
            "\n",
            "    accuracy                           0.69     25000\n",
            "   macro avg       0.75      0.69      0.68     25000\n",
            "weighted avg       0.75      0.69      0.67     25000\n",
            "\n"
          ]
        }
      ]
    },
    {
      "cell_type": "code",
      "source": [],
      "metadata": {
        "id": "FijWawhP_RKz"
      },
      "execution_count": 74,
      "outputs": []
    },
    {
      "cell_type": "code",
      "source": [],
      "metadata": {
        "id": "HQvV5r-S_RNJ"
      },
      "execution_count": 74,
      "outputs": []
    },
    {
      "cell_type": "code",
      "source": [],
      "metadata": {
        "id": "zO0HgQbS_RQH"
      },
      "execution_count": 74,
      "outputs": []
    },
    {
      "cell_type": "code",
      "source": [],
      "metadata": {
        "id": "YlsVAp9c_RTE"
      },
      "execution_count": 74,
      "outputs": []
    },
    {
      "cell_type": "code",
      "source": [],
      "metadata": {
        "id": "_IadMLYL_RWF"
      },
      "execution_count": 74,
      "outputs": []
    },
    {
      "cell_type": "code",
      "source": [],
      "metadata": {
        "id": "sJNLy5oM_RYo"
      },
      "execution_count": 74,
      "outputs": []
    }
  ],
  "metadata": {
    "colab": {
      "collapsed_sections": [],
      "name": "Final_ISAA_Lab_2.ipynb",
      "provenance": [],
      "include_colab_link": true
    },
    "kernelspec": {
      "display_name": "Python 3",
      "language": "python",
      "name": "python3"
    },
    "language_info": {
      "codemirror_mode": {
        "name": "ipython",
        "version": 3
      },
      "file_extension": ".py",
      "mimetype": "text/x-python",
      "name": "python",
      "nbconvert_exporter": "python",
      "pygments_lexer": "ipython3",
      "version": "3.8.5"
    }
  },
  "nbformat": 4,
  "nbformat_minor": 0
}